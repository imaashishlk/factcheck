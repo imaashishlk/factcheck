{
  "cells": [
    {
      "cell_type": "code",
      "execution_count": 46,
      "metadata": {
        "colab": {
          "base_uri": "https://localhost:8080/"
        },
        "id": "bleNyTDKr3qL",
        "outputId": "8568c28b-cb6e-41b1-bf96-6859c0622261"
      },
      "outputs": [
        {
          "output_type": "stream",
          "name": "stdout",
          "text": [
            "Drive already mounted at /content/drive; to attempt to forcibly remount, call drive.mount(\"/content/drive\", force_remount=True).\n"
          ]
        }
      ],
      "source": [
        "import numpy as np\n",
        "import pandas as pd\n",
        "import os\n",
        "import matplotlib.pyplot as plt\n",
        "import seaborn as sns\n",
        "import nltk\n",
        "\n",
        "from google.colab import drive\n",
        "drive.mount('/content/drive')\n"
      ]
    },
    {
      "cell_type": "code",
      "execution_count": 47,
      "metadata": {
        "id": "gcslAAPNr3qV"
      },
      "outputs": [],
      "source": [
        "crowdsourced = pd.read_csv(\"drive/MyDrive/DM23/data/crowdsourced.csv\")\n",
        "groundtruth = pd.read_csv(\"drive/MyDrive/DM23/data/groundtruth.csv\")"
      ]
    },
    {
      "cell_type": "code",
      "execution_count": 48,
      "metadata": {
        "colab": {
          "base_uri": "https://localhost:8080/"
        },
        "id": "46kCNYAqr3qW",
        "outputId": "cc350bd9-5a91-4ca8-e72d-377aa680f5bf"
      },
      "outputs": [
        {
          "output_type": "execute_result",
          "data": {
            "text/plain": [
              "(22501, 10)"
            ]
          },
          "metadata": {},
          "execution_count": 48
        }
      ],
      "source": [
        "crowdsourced.shape"
      ]
    },
    {
      "cell_type": "code",
      "execution_count": 49,
      "metadata": {
        "colab": {
          "base_uri": "https://localhost:8080/"
        },
        "id": "21M9zgqyr3qX",
        "outputId": "efec5c09-e435-44a4-a51f-f4c1d46fccd0"
      },
      "outputs": [
        {
          "output_type": "execute_result",
          "data": {
            "text/plain": [
              "(1032, 10)"
            ]
          },
          "metadata": {},
          "execution_count": 49
        }
      ],
      "source": [
        "groundtruth.shape"
      ]
    },
    {
      "cell_type": "code",
      "execution_count": 50,
      "metadata": {
        "colab": {
          "base_uri": "https://localhost:8080/",
          "height": 337
        },
        "id": "ALadm2p8r3qY",
        "outputId": "d6f784f3-e245-4602-b150-227947af5693"
      },
      "outputs": [
        {
          "output_type": "execute_result",
          "data": {
            "text/plain": [
              "   Sentence_id                                               Text  \\\n",
              "0           26      You know, I saw a movie - \"Crocodile Dundee.\"   \n",
              "1           80  We're consuming 50 percent of the world's coca...   \n",
              "2          129   That answer was about as clear as Boston harbor.   \n",
              "3          131                          Let me help the governor.   \n",
              "4          172  We've run up more debt in the last eight years...   \n",
              "\n",
              "           Speaker   Speaker_title Speaker_party         File_id  Length  \\\n",
              "0      George Bush  Vice President    REPUBLICAN  1988-09-25.txt       9   \n",
              "1  Michael Dukakis        Governor      DEMOCRAT  1988-09-25.txt       8   \n",
              "2      George Bush  Vice President    REPUBLICAN  1988-09-25.txt       9   \n",
              "3      George Bush  Vice President    REPUBLICAN  1988-09-25.txt       5   \n",
              "4  Michael Dukakis        Governor      DEMOCRAT  1988-09-25.txt      22   \n",
              "\n",
              "   Line_number  Sentiment  Verdict  \n",
              "0           26   0.000000        0  \n",
              "1           80  -0.740979        1  \n",
              "2          129   0.000000       -1  \n",
              "3          131   0.212987       -1  \n",
              "4          172  -0.268506        1  "
            ],
            "text/html": [
              "\n",
              "  <div id=\"df-411d62da-3eaf-435a-9a5a-8397cd875789\">\n",
              "    <div class=\"colab-df-container\">\n",
              "      <div>\n",
              "<style scoped>\n",
              "    .dataframe tbody tr th:only-of-type {\n",
              "        vertical-align: middle;\n",
              "    }\n",
              "\n",
              "    .dataframe tbody tr th {\n",
              "        vertical-align: top;\n",
              "    }\n",
              "\n",
              "    .dataframe thead th {\n",
              "        text-align: right;\n",
              "    }\n",
              "</style>\n",
              "<table border=\"1\" class=\"dataframe\">\n",
              "  <thead>\n",
              "    <tr style=\"text-align: right;\">\n",
              "      <th></th>\n",
              "      <th>Sentence_id</th>\n",
              "      <th>Text</th>\n",
              "      <th>Speaker</th>\n",
              "      <th>Speaker_title</th>\n",
              "      <th>Speaker_party</th>\n",
              "      <th>File_id</th>\n",
              "      <th>Length</th>\n",
              "      <th>Line_number</th>\n",
              "      <th>Sentiment</th>\n",
              "      <th>Verdict</th>\n",
              "    </tr>\n",
              "  </thead>\n",
              "  <tbody>\n",
              "    <tr>\n",
              "      <th>0</th>\n",
              "      <td>26</td>\n",
              "      <td>You know, I saw a movie - \"Crocodile Dundee.\"</td>\n",
              "      <td>George Bush</td>\n",
              "      <td>Vice President</td>\n",
              "      <td>REPUBLICAN</td>\n",
              "      <td>1988-09-25.txt</td>\n",
              "      <td>9</td>\n",
              "      <td>26</td>\n",
              "      <td>0.000000</td>\n",
              "      <td>0</td>\n",
              "    </tr>\n",
              "    <tr>\n",
              "      <th>1</th>\n",
              "      <td>80</td>\n",
              "      <td>We're consuming 50 percent of the world's coca...</td>\n",
              "      <td>Michael Dukakis</td>\n",
              "      <td>Governor</td>\n",
              "      <td>DEMOCRAT</td>\n",
              "      <td>1988-09-25.txt</td>\n",
              "      <td>8</td>\n",
              "      <td>80</td>\n",
              "      <td>-0.740979</td>\n",
              "      <td>1</td>\n",
              "    </tr>\n",
              "    <tr>\n",
              "      <th>2</th>\n",
              "      <td>129</td>\n",
              "      <td>That answer was about as clear as Boston harbor.</td>\n",
              "      <td>George Bush</td>\n",
              "      <td>Vice President</td>\n",
              "      <td>REPUBLICAN</td>\n",
              "      <td>1988-09-25.txt</td>\n",
              "      <td>9</td>\n",
              "      <td>129</td>\n",
              "      <td>0.000000</td>\n",
              "      <td>-1</td>\n",
              "    </tr>\n",
              "    <tr>\n",
              "      <th>3</th>\n",
              "      <td>131</td>\n",
              "      <td>Let me help the governor.</td>\n",
              "      <td>George Bush</td>\n",
              "      <td>Vice President</td>\n",
              "      <td>REPUBLICAN</td>\n",
              "      <td>1988-09-25.txt</td>\n",
              "      <td>5</td>\n",
              "      <td>131</td>\n",
              "      <td>0.212987</td>\n",
              "      <td>-1</td>\n",
              "    </tr>\n",
              "    <tr>\n",
              "      <th>4</th>\n",
              "      <td>172</td>\n",
              "      <td>We've run up more debt in the last eight years...</td>\n",
              "      <td>Michael Dukakis</td>\n",
              "      <td>Governor</td>\n",
              "      <td>DEMOCRAT</td>\n",
              "      <td>1988-09-25.txt</td>\n",
              "      <td>22</td>\n",
              "      <td>172</td>\n",
              "      <td>-0.268506</td>\n",
              "      <td>1</td>\n",
              "    </tr>\n",
              "  </tbody>\n",
              "</table>\n",
              "</div>\n",
              "      <button class=\"colab-df-convert\" onclick=\"convertToInteractive('df-411d62da-3eaf-435a-9a5a-8397cd875789')\"\n",
              "              title=\"Convert this dataframe to an interactive table.\"\n",
              "              style=\"display:none;\">\n",
              "        \n",
              "  <svg xmlns=\"http://www.w3.org/2000/svg\" height=\"24px\"viewBox=\"0 0 24 24\"\n",
              "       width=\"24px\">\n",
              "    <path d=\"M0 0h24v24H0V0z\" fill=\"none\"/>\n",
              "    <path d=\"M18.56 5.44l.94 2.06.94-2.06 2.06-.94-2.06-.94-.94-2.06-.94 2.06-2.06.94zm-11 1L8.5 8.5l.94-2.06 2.06-.94-2.06-.94L8.5 2.5l-.94 2.06-2.06.94zm10 10l.94 2.06.94-2.06 2.06-.94-2.06-.94-.94-2.06-.94 2.06-2.06.94z\"/><path d=\"M17.41 7.96l-1.37-1.37c-.4-.4-.92-.59-1.43-.59-.52 0-1.04.2-1.43.59L10.3 9.45l-7.72 7.72c-.78.78-.78 2.05 0 2.83L4 21.41c.39.39.9.59 1.41.59.51 0 1.02-.2 1.41-.59l7.78-7.78 2.81-2.81c.8-.78.8-2.07 0-2.86zM5.41 20L4 18.59l7.72-7.72 1.47 1.35L5.41 20z\"/>\n",
              "  </svg>\n",
              "      </button>\n",
              "      \n",
              "  <style>\n",
              "    .colab-df-container {\n",
              "      display:flex;\n",
              "      flex-wrap:wrap;\n",
              "      gap: 12px;\n",
              "    }\n",
              "\n",
              "    .colab-df-convert {\n",
              "      background-color: #E8F0FE;\n",
              "      border: none;\n",
              "      border-radius: 50%;\n",
              "      cursor: pointer;\n",
              "      display: none;\n",
              "      fill: #1967D2;\n",
              "      height: 32px;\n",
              "      padding: 0 0 0 0;\n",
              "      width: 32px;\n",
              "    }\n",
              "\n",
              "    .colab-df-convert:hover {\n",
              "      background-color: #E2EBFA;\n",
              "      box-shadow: 0px 1px 2px rgba(60, 64, 67, 0.3), 0px 1px 3px 1px rgba(60, 64, 67, 0.15);\n",
              "      fill: #174EA6;\n",
              "    }\n",
              "\n",
              "    [theme=dark] .colab-df-convert {\n",
              "      background-color: #3B4455;\n",
              "      fill: #D2E3FC;\n",
              "    }\n",
              "\n",
              "    [theme=dark] .colab-df-convert:hover {\n",
              "      background-color: #434B5C;\n",
              "      box-shadow: 0px 1px 3px 1px rgba(0, 0, 0, 0.15);\n",
              "      filter: drop-shadow(0px 1px 2px rgba(0, 0, 0, 0.3));\n",
              "      fill: #FFFFFF;\n",
              "    }\n",
              "  </style>\n",
              "\n",
              "      <script>\n",
              "        const buttonEl =\n",
              "          document.querySelector('#df-411d62da-3eaf-435a-9a5a-8397cd875789 button.colab-df-convert');\n",
              "        buttonEl.style.display =\n",
              "          google.colab.kernel.accessAllowed ? 'block' : 'none';\n",
              "\n",
              "        async function convertToInteractive(key) {\n",
              "          const element = document.querySelector('#df-411d62da-3eaf-435a-9a5a-8397cd875789');\n",
              "          const dataTable =\n",
              "            await google.colab.kernel.invokeFunction('convertToInteractive',\n",
              "                                                     [key], {});\n",
              "          if (!dataTable) return;\n",
              "\n",
              "          const docLinkHtml = 'Like what you see? Visit the ' +\n",
              "            '<a target=\"_blank\" href=https://colab.research.google.com/notebooks/data_table.ipynb>data table notebook</a>'\n",
              "            + ' to learn more about interactive tables.';\n",
              "          element.innerHTML = '';\n",
              "          dataTable['output_type'] = 'display_data';\n",
              "          await google.colab.output.renderOutput(dataTable, element);\n",
              "          const docLink = document.createElement('div');\n",
              "          docLink.innerHTML = docLinkHtml;\n",
              "          element.appendChild(docLink);\n",
              "        }\n",
              "      </script>\n",
              "    </div>\n",
              "  </div>\n",
              "  "
            ]
          },
          "metadata": {},
          "execution_count": 50
        }
      ],
      "source": [
        "groundtruth.head()"
      ]
    },
    {
      "cell_type": "code",
      "execution_count": 51,
      "metadata": {
        "colab": {
          "base_uri": "https://localhost:8080/",
          "height": 337
        },
        "id": "J8ssDCjTr3qZ",
        "outputId": "db8df893-1f69-4e34-c598-dce7ccc6cf5a"
      },
      "outputs": [
        {
          "output_type": "execute_result",
          "data": {
            "text/plain": [
              "       Sentence_id                                               Text  \\\n",
              "23528        28958  He has promised a trillion dollars out of the ...   \n",
              "23529        28965  (LAUGHTER) I -- there's an old high school deb...   \n",
              "23530        29011                           Well, can I answer that?   \n",
              "23531        29060  I look forward to the final weeks of this camp...   \n",
              "23532        29062     For those of you for me, thanks for your help.   \n",
              "\n",
              "              Speaker   Speaker_title Speaker_party         File_id  Length  \\\n",
              "23528         Al Gore  Vice President      DEMOCRAT  2000-10-17.txt      24   \n",
              "23529  George W. Bush        Governor    REPUBLICAN  2000-10-17.txt      23   \n",
              "23530  George W. Bush        Governor    REPUBLICAN  2000-10-17.txt       5   \n",
              "23531  George W. Bush        Governor    REPUBLICAN  2000-10-17.txt      10   \n",
              "23532  George W. Bush        Governor    REPUBLICAN  2000-10-17.txt      10   \n",
              "\n",
              "       Line_number  Sentiment  Verdict  \n",
              "23528          953   0.363438        1  \n",
              "23529          960  -0.679982       -1  \n",
              "23530         1006   0.413020       -1  \n",
              "23531         1055   0.625957       -1  \n",
              "23532         1057   0.844495       -1  "
            ],
            "text/html": [
              "\n",
              "  <div id=\"df-d1dea614-d5e3-4e72-bcaa-f5f41158f9b1\">\n",
              "    <div class=\"colab-df-container\">\n",
              "      <div>\n",
              "<style scoped>\n",
              "    .dataframe tbody tr th:only-of-type {\n",
              "        vertical-align: middle;\n",
              "    }\n",
              "\n",
              "    .dataframe tbody tr th {\n",
              "        vertical-align: top;\n",
              "    }\n",
              "\n",
              "    .dataframe thead th {\n",
              "        text-align: right;\n",
              "    }\n",
              "</style>\n",
              "<table border=\"1\" class=\"dataframe\">\n",
              "  <thead>\n",
              "    <tr style=\"text-align: right;\">\n",
              "      <th></th>\n",
              "      <th>Sentence_id</th>\n",
              "      <th>Text</th>\n",
              "      <th>Speaker</th>\n",
              "      <th>Speaker_title</th>\n",
              "      <th>Speaker_party</th>\n",
              "      <th>File_id</th>\n",
              "      <th>Length</th>\n",
              "      <th>Line_number</th>\n",
              "      <th>Sentiment</th>\n",
              "      <th>Verdict</th>\n",
              "    </tr>\n",
              "  </thead>\n",
              "  <tbody>\n",
              "    <tr>\n",
              "      <th>23528</th>\n",
              "      <td>28958</td>\n",
              "      <td>He has promised a trillion dollars out of the ...</td>\n",
              "      <td>Al Gore</td>\n",
              "      <td>Vice President</td>\n",
              "      <td>DEMOCRAT</td>\n",
              "      <td>2000-10-17.txt</td>\n",
              "      <td>24</td>\n",
              "      <td>953</td>\n",
              "      <td>0.363438</td>\n",
              "      <td>1</td>\n",
              "    </tr>\n",
              "    <tr>\n",
              "      <th>23529</th>\n",
              "      <td>28965</td>\n",
              "      <td>(LAUGHTER) I -- there's an old high school deb...</td>\n",
              "      <td>George W. Bush</td>\n",
              "      <td>Governor</td>\n",
              "      <td>REPUBLICAN</td>\n",
              "      <td>2000-10-17.txt</td>\n",
              "      <td>23</td>\n",
              "      <td>960</td>\n",
              "      <td>-0.679982</td>\n",
              "      <td>-1</td>\n",
              "    </tr>\n",
              "    <tr>\n",
              "      <th>23530</th>\n",
              "      <td>29011</td>\n",
              "      <td>Well, can I answer that?</td>\n",
              "      <td>George W. Bush</td>\n",
              "      <td>Governor</td>\n",
              "      <td>REPUBLICAN</td>\n",
              "      <td>2000-10-17.txt</td>\n",
              "      <td>5</td>\n",
              "      <td>1006</td>\n",
              "      <td>0.413020</td>\n",
              "      <td>-1</td>\n",
              "    </tr>\n",
              "    <tr>\n",
              "      <th>23531</th>\n",
              "      <td>29060</td>\n",
              "      <td>I look forward to the final weeks of this camp...</td>\n",
              "      <td>George W. Bush</td>\n",
              "      <td>Governor</td>\n",
              "      <td>REPUBLICAN</td>\n",
              "      <td>2000-10-17.txt</td>\n",
              "      <td>10</td>\n",
              "      <td>1055</td>\n",
              "      <td>0.625957</td>\n",
              "      <td>-1</td>\n",
              "    </tr>\n",
              "    <tr>\n",
              "      <th>23532</th>\n",
              "      <td>29062</td>\n",
              "      <td>For those of you for me, thanks for your help.</td>\n",
              "      <td>George W. Bush</td>\n",
              "      <td>Governor</td>\n",
              "      <td>REPUBLICAN</td>\n",
              "      <td>2000-10-17.txt</td>\n",
              "      <td>10</td>\n",
              "      <td>1057</td>\n",
              "      <td>0.844495</td>\n",
              "      <td>-1</td>\n",
              "    </tr>\n",
              "  </tbody>\n",
              "</table>\n",
              "</div>\n",
              "      <button class=\"colab-df-convert\" onclick=\"convertToInteractive('df-d1dea614-d5e3-4e72-bcaa-f5f41158f9b1')\"\n",
              "              title=\"Convert this dataframe to an interactive table.\"\n",
              "              style=\"display:none;\">\n",
              "        \n",
              "  <svg xmlns=\"http://www.w3.org/2000/svg\" height=\"24px\"viewBox=\"0 0 24 24\"\n",
              "       width=\"24px\">\n",
              "    <path d=\"M0 0h24v24H0V0z\" fill=\"none\"/>\n",
              "    <path d=\"M18.56 5.44l.94 2.06.94-2.06 2.06-.94-2.06-.94-.94-2.06-.94 2.06-2.06.94zm-11 1L8.5 8.5l.94-2.06 2.06-.94-2.06-.94L8.5 2.5l-.94 2.06-2.06.94zm10 10l.94 2.06.94-2.06 2.06-.94-2.06-.94-.94-2.06-.94 2.06-2.06.94z\"/><path d=\"M17.41 7.96l-1.37-1.37c-.4-.4-.92-.59-1.43-.59-.52 0-1.04.2-1.43.59L10.3 9.45l-7.72 7.72c-.78.78-.78 2.05 0 2.83L4 21.41c.39.39.9.59 1.41.59.51 0 1.02-.2 1.41-.59l7.78-7.78 2.81-2.81c.8-.78.8-2.07 0-2.86zM5.41 20L4 18.59l7.72-7.72 1.47 1.35L5.41 20z\"/>\n",
              "  </svg>\n",
              "      </button>\n",
              "      \n",
              "  <style>\n",
              "    .colab-df-container {\n",
              "      display:flex;\n",
              "      flex-wrap:wrap;\n",
              "      gap: 12px;\n",
              "    }\n",
              "\n",
              "    .colab-df-convert {\n",
              "      background-color: #E8F0FE;\n",
              "      border: none;\n",
              "      border-radius: 50%;\n",
              "      cursor: pointer;\n",
              "      display: none;\n",
              "      fill: #1967D2;\n",
              "      height: 32px;\n",
              "      padding: 0 0 0 0;\n",
              "      width: 32px;\n",
              "    }\n",
              "\n",
              "    .colab-df-convert:hover {\n",
              "      background-color: #E2EBFA;\n",
              "      box-shadow: 0px 1px 2px rgba(60, 64, 67, 0.3), 0px 1px 3px 1px rgba(60, 64, 67, 0.15);\n",
              "      fill: #174EA6;\n",
              "    }\n",
              "\n",
              "    [theme=dark] .colab-df-convert {\n",
              "      background-color: #3B4455;\n",
              "      fill: #D2E3FC;\n",
              "    }\n",
              "\n",
              "    [theme=dark] .colab-df-convert:hover {\n",
              "      background-color: #434B5C;\n",
              "      box-shadow: 0px 1px 3px 1px rgba(0, 0, 0, 0.15);\n",
              "      filter: drop-shadow(0px 1px 2px rgba(0, 0, 0, 0.3));\n",
              "      fill: #FFFFFF;\n",
              "    }\n",
              "  </style>\n",
              "\n",
              "      <script>\n",
              "        const buttonEl =\n",
              "          document.querySelector('#df-d1dea614-d5e3-4e72-bcaa-f5f41158f9b1 button.colab-df-convert');\n",
              "        buttonEl.style.display =\n",
              "          google.colab.kernel.accessAllowed ? 'block' : 'none';\n",
              "\n",
              "        async function convertToInteractive(key) {\n",
              "          const element = document.querySelector('#df-d1dea614-d5e3-4e72-bcaa-f5f41158f9b1');\n",
              "          const dataTable =\n",
              "            await google.colab.kernel.invokeFunction('convertToInteractive',\n",
              "                                                     [key], {});\n",
              "          if (!dataTable) return;\n",
              "\n",
              "          const docLinkHtml = 'Like what you see? Visit the ' +\n",
              "            '<a target=\"_blank\" href=https://colab.research.google.com/notebooks/data_table.ipynb>data table notebook</a>'\n",
              "            + ' to learn more about interactive tables.';\n",
              "          element.innerHTML = '';\n",
              "          dataTable['output_type'] = 'display_data';\n",
              "          await google.colab.output.renderOutput(dataTable, element);\n",
              "          const docLink = document.createElement('div');\n",
              "          docLink.innerHTML = docLinkHtml;\n",
              "          element.appendChild(docLink);\n",
              "        }\n",
              "      </script>\n",
              "    </div>\n",
              "  </div>\n",
              "  "
            ]
          },
          "metadata": {},
          "execution_count": 51
        }
      ],
      "source": [
        "merged = crowdsourced.merge(groundtruth, how='outer')\n",
        "merged.tail()"
      ]
    },
    {
      "cell_type": "code",
      "execution_count": 52,
      "metadata": {
        "colab": {
          "base_uri": "https://localhost:8080/"
        },
        "id": "2ZcifzF2r3qZ",
        "outputId": "21e10853-b8d6-41f0-dc85-af7503d0d709"
      },
      "outputs": [
        {
          "output_type": "execute_result",
          "data": {
            "text/plain": [
              "152"
            ]
          },
          "metadata": {},
          "execution_count": 52
        }
      ],
      "source": [
        "merged.Length.max()"
      ]
    },
    {
      "cell_type": "code",
      "execution_count": 53,
      "metadata": {
        "id": "UtylxNkOr3qa"
      },
      "outputs": [],
      "source": [
        "merged['Date Commenced'] = merged.File_id.apply(lambda x: x.split('.')[0])"
      ]
    },
    {
      "cell_type": "code",
      "execution_count": 54,
      "metadata": {
        "colab": {
          "base_uri": "https://localhost:8080/",
          "height": 372
        },
        "id": "sl_I4Im3r3qb",
        "outputId": "755a4dfb-fd82-4744-9628-b470a964cfb9"
      },
      "outputs": [
        {
          "output_type": "execute_result",
          "data": {
            "text/plain": [
              "   Sentence_id                                               Text  \\\n",
              "0           16      I think we've seen a deterioration of values.   \n",
              "1           17  I think for a while as a nation we condoned th...   \n",
              "2           18  For a while, as I recall, it even seems to me ...   \n",
              "3           19  So we've seen a deterioration in values, and o...   \n",
              "4           20  We got away, we got into this feeling that val...   \n",
              "\n",
              "       Speaker   Speaker_title Speaker_party         File_id  Length  \\\n",
              "0  George Bush  Vice President    REPUBLICAN  1988-09-25.txt       8   \n",
              "1  George Bush  Vice President    REPUBLICAN  1988-09-25.txt      16   \n",
              "2  George Bush  Vice President    REPUBLICAN  1988-09-25.txt      29   \n",
              "3  George Bush  Vice President    REPUBLICAN  1988-09-25.txt      35   \n",
              "4  George Bush  Vice President    REPUBLICAN  1988-09-25.txt      15   \n",
              "\n",
              "   Line_number  Sentiment  Verdict Date Commenced  \n",
              "0           16   0.000000       -1     1988-09-25  \n",
              "1           17  -0.456018       -1     1988-09-25  \n",
              "2           18  -0.805547       -1     1988-09-25  \n",
              "3           19   0.698942       -1     1988-09-25  \n",
              "4           20   0.000000       -1     1988-09-25  "
            ],
            "text/html": [
              "\n",
              "  <div id=\"df-07912d4e-6c94-4892-a73d-ca0522423d6d\">\n",
              "    <div class=\"colab-df-container\">\n",
              "      <div>\n",
              "<style scoped>\n",
              "    .dataframe tbody tr th:only-of-type {\n",
              "        vertical-align: middle;\n",
              "    }\n",
              "\n",
              "    .dataframe tbody tr th {\n",
              "        vertical-align: top;\n",
              "    }\n",
              "\n",
              "    .dataframe thead th {\n",
              "        text-align: right;\n",
              "    }\n",
              "</style>\n",
              "<table border=\"1\" class=\"dataframe\">\n",
              "  <thead>\n",
              "    <tr style=\"text-align: right;\">\n",
              "      <th></th>\n",
              "      <th>Sentence_id</th>\n",
              "      <th>Text</th>\n",
              "      <th>Speaker</th>\n",
              "      <th>Speaker_title</th>\n",
              "      <th>Speaker_party</th>\n",
              "      <th>File_id</th>\n",
              "      <th>Length</th>\n",
              "      <th>Line_number</th>\n",
              "      <th>Sentiment</th>\n",
              "      <th>Verdict</th>\n",
              "      <th>Date Commenced</th>\n",
              "    </tr>\n",
              "  </thead>\n",
              "  <tbody>\n",
              "    <tr>\n",
              "      <th>0</th>\n",
              "      <td>16</td>\n",
              "      <td>I think we've seen a deterioration of values.</td>\n",
              "      <td>George Bush</td>\n",
              "      <td>Vice President</td>\n",
              "      <td>REPUBLICAN</td>\n",
              "      <td>1988-09-25.txt</td>\n",
              "      <td>8</td>\n",
              "      <td>16</td>\n",
              "      <td>0.000000</td>\n",
              "      <td>-1</td>\n",
              "      <td>1988-09-25</td>\n",
              "    </tr>\n",
              "    <tr>\n",
              "      <th>1</th>\n",
              "      <td>17</td>\n",
              "      <td>I think for a while as a nation we condoned th...</td>\n",
              "      <td>George Bush</td>\n",
              "      <td>Vice President</td>\n",
              "      <td>REPUBLICAN</td>\n",
              "      <td>1988-09-25.txt</td>\n",
              "      <td>16</td>\n",
              "      <td>17</td>\n",
              "      <td>-0.456018</td>\n",
              "      <td>-1</td>\n",
              "      <td>1988-09-25</td>\n",
              "    </tr>\n",
              "    <tr>\n",
              "      <th>2</th>\n",
              "      <td>18</td>\n",
              "      <td>For a while, as I recall, it even seems to me ...</td>\n",
              "      <td>George Bush</td>\n",
              "      <td>Vice President</td>\n",
              "      <td>REPUBLICAN</td>\n",
              "      <td>1988-09-25.txt</td>\n",
              "      <td>29</td>\n",
              "      <td>18</td>\n",
              "      <td>-0.805547</td>\n",
              "      <td>-1</td>\n",
              "      <td>1988-09-25</td>\n",
              "    </tr>\n",
              "    <tr>\n",
              "      <th>3</th>\n",
              "      <td>19</td>\n",
              "      <td>So we've seen a deterioration in values, and o...</td>\n",
              "      <td>George Bush</td>\n",
              "      <td>Vice President</td>\n",
              "      <td>REPUBLICAN</td>\n",
              "      <td>1988-09-25.txt</td>\n",
              "      <td>35</td>\n",
              "      <td>19</td>\n",
              "      <td>0.698942</td>\n",
              "      <td>-1</td>\n",
              "      <td>1988-09-25</td>\n",
              "    </tr>\n",
              "    <tr>\n",
              "      <th>4</th>\n",
              "      <td>20</td>\n",
              "      <td>We got away, we got into this feeling that val...</td>\n",
              "      <td>George Bush</td>\n",
              "      <td>Vice President</td>\n",
              "      <td>REPUBLICAN</td>\n",
              "      <td>1988-09-25.txt</td>\n",
              "      <td>15</td>\n",
              "      <td>20</td>\n",
              "      <td>0.000000</td>\n",
              "      <td>-1</td>\n",
              "      <td>1988-09-25</td>\n",
              "    </tr>\n",
              "  </tbody>\n",
              "</table>\n",
              "</div>\n",
              "      <button class=\"colab-df-convert\" onclick=\"convertToInteractive('df-07912d4e-6c94-4892-a73d-ca0522423d6d')\"\n",
              "              title=\"Convert this dataframe to an interactive table.\"\n",
              "              style=\"display:none;\">\n",
              "        \n",
              "  <svg xmlns=\"http://www.w3.org/2000/svg\" height=\"24px\"viewBox=\"0 0 24 24\"\n",
              "       width=\"24px\">\n",
              "    <path d=\"M0 0h24v24H0V0z\" fill=\"none\"/>\n",
              "    <path d=\"M18.56 5.44l.94 2.06.94-2.06 2.06-.94-2.06-.94-.94-2.06-.94 2.06-2.06.94zm-11 1L8.5 8.5l.94-2.06 2.06-.94-2.06-.94L8.5 2.5l-.94 2.06-2.06.94zm10 10l.94 2.06.94-2.06 2.06-.94-2.06-.94-.94-2.06-.94 2.06-2.06.94z\"/><path d=\"M17.41 7.96l-1.37-1.37c-.4-.4-.92-.59-1.43-.59-.52 0-1.04.2-1.43.59L10.3 9.45l-7.72 7.72c-.78.78-.78 2.05 0 2.83L4 21.41c.39.39.9.59 1.41.59.51 0 1.02-.2 1.41-.59l7.78-7.78 2.81-2.81c.8-.78.8-2.07 0-2.86zM5.41 20L4 18.59l7.72-7.72 1.47 1.35L5.41 20z\"/>\n",
              "  </svg>\n",
              "      </button>\n",
              "      \n",
              "  <style>\n",
              "    .colab-df-container {\n",
              "      display:flex;\n",
              "      flex-wrap:wrap;\n",
              "      gap: 12px;\n",
              "    }\n",
              "\n",
              "    .colab-df-convert {\n",
              "      background-color: #E8F0FE;\n",
              "      border: none;\n",
              "      border-radius: 50%;\n",
              "      cursor: pointer;\n",
              "      display: none;\n",
              "      fill: #1967D2;\n",
              "      height: 32px;\n",
              "      padding: 0 0 0 0;\n",
              "      width: 32px;\n",
              "    }\n",
              "\n",
              "    .colab-df-convert:hover {\n",
              "      background-color: #E2EBFA;\n",
              "      box-shadow: 0px 1px 2px rgba(60, 64, 67, 0.3), 0px 1px 3px 1px rgba(60, 64, 67, 0.15);\n",
              "      fill: #174EA6;\n",
              "    }\n",
              "\n",
              "    [theme=dark] .colab-df-convert {\n",
              "      background-color: #3B4455;\n",
              "      fill: #D2E3FC;\n",
              "    }\n",
              "\n",
              "    [theme=dark] .colab-df-convert:hover {\n",
              "      background-color: #434B5C;\n",
              "      box-shadow: 0px 1px 3px 1px rgba(0, 0, 0, 0.15);\n",
              "      filter: drop-shadow(0px 1px 2px rgba(0, 0, 0, 0.3));\n",
              "      fill: #FFFFFF;\n",
              "    }\n",
              "  </style>\n",
              "\n",
              "      <script>\n",
              "        const buttonEl =\n",
              "          document.querySelector('#df-07912d4e-6c94-4892-a73d-ca0522423d6d button.colab-df-convert');\n",
              "        buttonEl.style.display =\n",
              "          google.colab.kernel.accessAllowed ? 'block' : 'none';\n",
              "\n",
              "        async function convertToInteractive(key) {\n",
              "          const element = document.querySelector('#df-07912d4e-6c94-4892-a73d-ca0522423d6d');\n",
              "          const dataTable =\n",
              "            await google.colab.kernel.invokeFunction('convertToInteractive',\n",
              "                                                     [key], {});\n",
              "          if (!dataTable) return;\n",
              "\n",
              "          const docLinkHtml = 'Like what you see? Visit the ' +\n",
              "            '<a target=\"_blank\" href=https://colab.research.google.com/notebooks/data_table.ipynb>data table notebook</a>'\n",
              "            + ' to learn more about interactive tables.';\n",
              "          element.innerHTML = '';\n",
              "          dataTable['output_type'] = 'display_data';\n",
              "          await google.colab.output.renderOutput(dataTable, element);\n",
              "          const docLink = document.createElement('div');\n",
              "          docLink.innerHTML = docLinkHtml;\n",
              "          element.appendChild(docLink);\n",
              "        }\n",
              "      </script>\n",
              "    </div>\n",
              "  </div>\n",
              "  "
            ]
          },
          "metadata": {},
          "execution_count": 54
        }
      ],
      "source": [
        "merged.head()"
      ]
    },
    {
      "cell_type": "code",
      "execution_count": 55,
      "metadata": {
        "colab": {
          "base_uri": "https://localhost:8080/"
        },
        "id": "JvH1ySvsr3qd",
        "outputId": "96852464-d92d-4b41-d18f-231d4754f020"
      },
      "outputs": [
        {
          "output_type": "execute_result",
          "data": {
            "text/plain": [
              "(23533, 11)"
            ]
          },
          "metadata": {},
          "execution_count": 55
        }
      ],
      "source": [
        "merged.shape"
      ]
    },
    {
      "cell_type": "code",
      "execution_count": 56,
      "metadata": {
        "colab": {
          "base_uri": "https://localhost:8080/",
          "height": 443
        },
        "id": "GpTB6XCIr3qd",
        "outputId": "7bb60bf6-431a-495a-cb3b-9ff5b920fa39"
      },
      "outputs": [
        {
          "output_type": "display_data",
          "data": {
            "text/plain": [
              "<Figure size 640x480 with 1 Axes>"
            ],
            "image/png": "[encoded data removed]"
          },
          "metadata": {}
        }
      ],
      "source": [
        "merged.boxplot(\"Length\", by=\"Speaker_party\", grid=False, showfliers=False, color=\"black\")\n",
        "\n",
        "plt.rcParams[\"figure.figsize\"] = plt.rcParamsDefault[\"figure.figsize\"]\n",
        "plt.suptitle(\"\")\n",
        "plt.xlabel(\"\")\n",
        "plt.show()"
      ]
    },
    {
      "cell_type": "code",
      "execution_count": 57,
      "metadata": {
        "colab": {
          "base_uri": "https://localhost:8080/",
          "height": 468
        },
        "id": "hovbm9kpr3qe",
        "outputId": "77ee0ebe-489a-4196-a805-28c4a8236e73"
      },
      "outputs": [
        {
          "output_type": "execute_result",
          "data": {
            "text/plain": [
              "<Axes: xlabel='Verdict', ylabel='count'>"
            ]
          },
          "metadata": {},
          "execution_count": 57
        },
        {
          "output_type": "display_data",
          "data": {
            "text/plain": [
              "<Figure size 640x480 with 1 Axes>"
            ],
            "image/png": "[encoded data removed]"
          },
          "metadata": {}
        }
      ],
      "source": [
        "# (-1  Non-factual statement)\n",
        "# (0 unimportant factual statement)\n",
        "# (1 check-worthy factual statement)\n",
        "sns.countplot(x ='Verdict', data = merged)"
      ]
    },
    {
      "cell_type": "code",
      "execution_count": 58,
      "metadata": {
        "colab": {
          "base_uri": "https://localhost:8080/"
        },
        "id": "3B1yB_Otr3qf",
        "outputId": "3a227fcb-c1b8-4204-e78b-a37c52c9d3a7"
      },
      "outputs": [
        {
          "output_type": "stream",
          "name": "stdout",
          "text": [
            "Null Values Sentence_id       0\n",
            "Text              0\n",
            "Speaker           0\n",
            "Speaker_title     0\n",
            "Speaker_party     0\n",
            "File_id           0\n",
            "Length            0\n",
            "Line_number       0\n",
            "Sentiment         3\n",
            "Verdict           0\n",
            "Date Commenced    0\n",
            "dtype: int64\n"
          ]
        }
      ],
      "source": [
        "print('Null Values', merged.isnull().sum())"
      ]
    },
    {
      "cell_type": "code",
      "execution_count": 59,
      "metadata": {
        "colab": {
          "base_uri": "https://localhost:8080/",
          "height": 468
        },
        "id": "bL7PZG-wr3qg",
        "outputId": "e5353b92-f5be-44ed-de68-248af1ad25fc"
      },
      "outputs": [
        {
          "output_type": "execute_result",
          "data": {
            "text/plain": [
              "<Axes: xlabel='Verdict', ylabel='count'>"
            ]
          },
          "metadata": {},
          "execution_count": 59
        },
        {
          "output_type": "display_data",
          "data": {
            "text/plain": [
              "<Figure size 640x480 with 1 Axes>"
            ],
            "image/png": "[encoded data removed]"
          },
          "metadata": {}
        }
      ],
      "source": [
        "# Converting to binary, choosing only non-factual statement and check-worthy factual statement\n",
        "# Removing unimportant factual statement\n",
        "\n",
        "merged = merged.drop(merged[merged.Verdict == 0].index)\n",
        "sns.countplot(x ='Verdict', data = merged)"
      ]
    },
    {
      "cell_type": "code",
      "execution_count": 60,
      "metadata": {
        "colab": {
          "base_uri": "https://localhost:8080/"
        },
        "id": "OCp-iET-r3qg",
        "outputId": "6d51754e-8842-4f64-bba1-01630397a16a"
      },
      "outputs": [
        {
          "output_type": "execute_result",
          "data": {
            "text/plain": [
              "-1    15416\n",
              " 1     5651\n",
              "Name: Verdict, dtype: int64"
            ]
          },
          "metadata": {},
          "execution_count": 60
        }
      ],
      "source": [
        "merged['Verdict'].value_counts()"
      ]
    },
    {
      "cell_type": "code",
      "execution_count": 61,
      "metadata": {
        "colab": {
          "base_uri": "https://localhost:8080/",
          "height": 410
        },
        "id": "N51CnKGjr3qh",
        "outputId": "6a0bf8d0-fafa-46b5-ccf0-cd4797c86633"
      },
      "outputs": [
        {
          "output_type": "display_data",
          "data": {
            "text/plain": [
              "<Figure size 400x400 with 1 Axes>"
            ],
            "image/png": "[encoded data removed]"
          },
          "metadata": {}
        }
      ],
      "source": [
        "## Balancing Dataset, Undersampling\n",
        "shuffled_df = merged.sample(frac = 1, random_state=4)\n",
        "\n",
        "factual = shuffled_df.loc[shuffled_df['Verdict'] == 1]\n",
        "# Selecting the actual number of non_factual resembling factual \n",
        "non_factual = shuffled_df.loc[shuffled_df['Verdict'] == -1].sample(n=5651, random_state=42)\n",
        "\n",
        "# Concatenate both dataframes again\n",
        "merged = pd.concat([factual, non_factual])\n",
        "merged = merged.sample(frac=1,random_state=4)\n",
        "\n",
        "# Plot of the dataset after undersampling\n",
        "plt.figure(figsize=(4, 4))\n",
        "sns.countplot(x = 'Verdict', data = merged)\n",
        "plt.title('Balanced Classes')\n",
        "plt.show()"
      ]
    },
    {
      "cell_type": "code",
      "execution_count": 62,
      "metadata": {
        "id": "EwODekLpr3qh"
      },
      "outputs": [],
      "source": [
        "# Preserving sentence_id\n",
        "sentence_id = merged.Sentence_id"
      ]
    },
    {
      "cell_type": "code",
      "execution_count": 63,
      "metadata": {
        "colab": {
          "base_uri": "https://localhost:8080/",
          "height": 424
        },
        "id": "ivcHcWMSr3qi",
        "outputId": "93ce4853-7222-4f09-a04d-501d9217ad88"
      },
      "outputs": [
        {
          "output_type": "execute_result",
          "data": {
            "text/plain": [
              "       Sentence_id                                               Text  \\\n",
              "11729        18148                             Can I respond to that?   \n",
              "22588         3436  Number three, we've got to make sure that none...   \n",
              "11408        17687  But the figures show that about 8 million more...   \n",
              "16164        24020  We never would have got there if we had gone f...   \n",
              "2378          3329  Just on Monday of this week I signed a tax bil...   \n",
              "\n",
              "              Speaker          Speaker_title Speaker_party         File_id  \\\n",
              "11729  George W. Bush              President    REPUBLICAN  2004-09-30.txt   \n",
              "22588    Barack Obama                Senator      DEMOCRAT  2008-09-26.txt   \n",
              "11408  Walter Mondale  Former Vice President      DEMOCRAT  1984-10-07.txt   \n",
              "16164     George Bush              President    REPUBLICAN  1992-10-11.txt   \n",
              "2378   Gerald R. Ford              President    REPUBLICAN  1976-10-06.txt   \n",
              "\n",
              "       Length  Line_number  Sentiment  Verdict Date Commenced  \n",
              "11729       5          216   0.000000       -1     2004-09-30  \n",
              "22588      24           43  -0.458236       -1     2008-09-26  \n",
              "11408      19          636  -0.598957        1     1984-10-07  \n",
              "16164      33          217  -0.612673       -1     1992-10-11  \n",
              "2378       40          561  -0.636017        1     1976-10-06  "
            ],
            "text/html": [
              "\n",
              "  <div id=\"df-260c57f7-2863-44d7-a23d-c51e162277c3\">\n",
              "    <div class=\"colab-df-container\">\n",
              "      <div>\n",
              "<style scoped>\n",
              "    .dataframe tbody tr th:only-of-type {\n",
              "        vertical-align: middle;\n",
              "    }\n",
              "\n",
              "    .dataframe tbody tr th {\n",
              "        vertical-align: top;\n",
              "    }\n",
              "\n",
              "    .dataframe thead th {\n",
              "        text-align: right;\n",
              "    }\n",
              "</style>\n",
              "<table border=\"1\" class=\"dataframe\">\n",
              "  <thead>\n",
              "    <tr style=\"text-align: right;\">\n",
              "      <th></th>\n",
              "      <th>Sentence_id</th>\n",
              "      <th>Text</th>\n",
              "      <th>Speaker</th>\n",
              "      <th>Speaker_title</th>\n",
              "      <th>Speaker_party</th>\n",
              "      <th>File_id</th>\n",
              "      <th>Length</th>\n",
              "      <th>Line_number</th>\n",
              "      <th>Sentiment</th>\n",
              "      <th>Verdict</th>\n",
              "      <th>Date Commenced</th>\n",
              "    </tr>\n",
              "  </thead>\n",
              "  <tbody>\n",
              "    <tr>\n",
              "      <th>11729</th>\n",
              "      <td>18148</td>\n",
              "      <td>Can I respond to that?</td>\n",
              "      <td>George W. Bush</td>\n",
              "      <td>President</td>\n",
              "      <td>REPUBLICAN</td>\n",
              "      <td>2004-09-30.txt</td>\n",
              "      <td>5</td>\n",
              "      <td>216</td>\n",
              "      <td>0.000000</td>\n",
              "      <td>-1</td>\n",
              "      <td>2004-09-30</td>\n",
              "    </tr>\n",
              "    <tr>\n",
              "      <th>22588</th>\n",
              "      <td>3436</td>\n",
              "      <td>Number three, we've got to make sure that none...</td>\n",
              "      <td>Barack Obama</td>\n",
              "      <td>Senator</td>\n",
              "      <td>DEMOCRAT</td>\n",
              "      <td>2008-09-26.txt</td>\n",
              "      <td>24</td>\n",
              "      <td>43</td>\n",
              "      <td>-0.458236</td>\n",
              "      <td>-1</td>\n",
              "      <td>2008-09-26</td>\n",
              "    </tr>\n",
              "    <tr>\n",
              "      <th>11408</th>\n",
              "      <td>17687</td>\n",
              "      <td>But the figures show that about 8 million more...</td>\n",
              "      <td>Walter Mondale</td>\n",
              "      <td>Former Vice President</td>\n",
              "      <td>DEMOCRAT</td>\n",
              "      <td>1984-10-07.txt</td>\n",
              "      <td>19</td>\n",
              "      <td>636</td>\n",
              "      <td>-0.598957</td>\n",
              "      <td>1</td>\n",
              "      <td>1984-10-07</td>\n",
              "    </tr>\n",
              "    <tr>\n",
              "      <th>16164</th>\n",
              "      <td>24020</td>\n",
              "      <td>We never would have got there if we had gone f...</td>\n",
              "      <td>George Bush</td>\n",
              "      <td>President</td>\n",
              "      <td>REPUBLICAN</td>\n",
              "      <td>1992-10-11.txt</td>\n",
              "      <td>33</td>\n",
              "      <td>217</td>\n",
              "      <td>-0.612673</td>\n",
              "      <td>-1</td>\n",
              "      <td>1992-10-11</td>\n",
              "    </tr>\n",
              "    <tr>\n",
              "      <th>2378</th>\n",
              "      <td>3329</td>\n",
              "      <td>Just on Monday of this week I signed a tax bil...</td>\n",
              "      <td>Gerald R. Ford</td>\n",
              "      <td>President</td>\n",
              "      <td>REPUBLICAN</td>\n",
              "      <td>1976-10-06.txt</td>\n",
              "      <td>40</td>\n",
              "      <td>561</td>\n",
              "      <td>-0.636017</td>\n",
              "      <td>1</td>\n",
              "      <td>1976-10-06</td>\n",
              "    </tr>\n",
              "  </tbody>\n",
              "</table>\n",
              "</div>\n",
              "      <button class=\"colab-df-convert\" onclick=\"convertToInteractive('df-260c57f7-2863-44d7-a23d-c51e162277c3')\"\n",
              "              title=\"Convert this dataframe to an interactive table.\"\n",
              "              style=\"display:none;\">\n",
              "        \n",
              "  <svg xmlns=\"http://www.w3.org/2000/svg\" height=\"24px\"viewBox=\"0 0 24 24\"\n",
              "       width=\"24px\">\n",
              "    <path d=\"M0 0h24v24H0V0z\" fill=\"none\"/>\n",
              "    <path d=\"M18.56 5.44l.94 2.06.94-2.06 2.06-.94-2.06-.94-.94-2.06-.94 2.06-2.06.94zm-11 1L8.5 8.5l.94-2.06 2.06-.94-2.06-.94L8.5 2.5l-.94 2.06-2.06.94zm10 10l.94 2.06.94-2.06 2.06-.94-2.06-.94-.94-2.06-.94 2.06-2.06.94z\"/><path d=\"M17.41 7.96l-1.37-1.37c-.4-.4-.92-.59-1.43-.59-.52 0-1.04.2-1.43.59L10.3 9.45l-7.72 7.72c-.78.78-.78 2.05 0 2.83L4 21.41c.39.39.9.59 1.41.59.51 0 1.02-.2 1.41-.59l7.78-7.78 2.81-2.81c.8-.78.8-2.07 0-2.86zM5.41 20L4 18.59l7.72-7.72 1.47 1.35L5.41 20z\"/>\n",
              "  </svg>\n",
              "      </button>\n",
              "      \n",
              "  <style>\n",
              "    .colab-df-container {\n",
              "      display:flex;\n",
              "      flex-wrap:wrap;\n",
              "      gap: 12px;\n",
              "    }\n",
              "\n",
              "    .colab-df-convert {\n",
              "      background-color: #E8F0FE;\n",
              "      border: none;\n",
              "      border-radius: 50%;\n",
              "      cursor: pointer;\n",
              "      display: none;\n",
              "      fill: #1967D2;\n",
              "      height: 32px;\n",
              "      padding: 0 0 0 0;\n",
              "      width: 32px;\n",
              "    }\n",
              "\n",
              "    .colab-df-convert:hover {\n",
              "      background-color: #E2EBFA;\n",
              "      box-shadow: 0px 1px 2px rgba(60, 64, 67, 0.3), 0px 1px 3px 1px rgba(60, 64, 67, 0.15);\n",
              "      fill: #174EA6;\n",
              "    }\n",
              "\n",
              "    [theme=dark] .colab-df-convert {\n",
              "      background-color: #3B4455;\n",
              "      fill: #D2E3FC;\n",
              "    }\n",
              "\n",
              "    [theme=dark] .colab-df-convert:hover {\n",
              "      background-color: #434B5C;\n",
              "      box-shadow: 0px 1px 3px 1px rgba(0, 0, 0, 0.15);\n",
              "      filter: drop-shadow(0px 1px 2px rgba(0, 0, 0, 0.3));\n",
              "      fill: #FFFFFF;\n",
              "    }\n",
              "  </style>\n",
              "\n",
              "      <script>\n",
              "        const buttonEl =\n",
              "          document.querySelector('#df-260c57f7-2863-44d7-a23d-c51e162277c3 button.colab-df-convert');\n",
              "        buttonEl.style.display =\n",
              "          google.colab.kernel.accessAllowed ? 'block' : 'none';\n",
              "\n",
              "        async function convertToInteractive(key) {\n",
              "          const element = document.querySelector('#df-260c57f7-2863-44d7-a23d-c51e162277c3');\n",
              "          const dataTable =\n",
              "            await google.colab.kernel.invokeFunction('convertToInteractive',\n",
              "                                                     [key], {});\n",
              "          if (!dataTable) return;\n",
              "\n",
              "          const docLinkHtml = 'Like what you see? Visit the ' +\n",
              "            '<a target=\"_blank\" href=https://colab.research.google.com/notebooks/data_table.ipynb>data table notebook</a>'\n",
              "            + ' to learn more about interactive tables.';\n",
              "          element.innerHTML = '';\n",
              "          dataTable['output_type'] = 'display_data';\n",
              "          await google.colab.output.renderOutput(dataTable, element);\n",
              "          const docLink = document.createElement('div');\n",
              "          docLink.innerHTML = docLinkHtml;\n",
              "          element.appendChild(docLink);\n",
              "        }\n",
              "      </script>\n",
              "    </div>\n",
              "  </div>\n",
              "  "
            ]
          },
          "metadata": {},
          "execution_count": 63
        }
      ],
      "source": [
        "merged.head()"
      ]
    },
    {
      "cell_type": "code",
      "execution_count": 64,
      "metadata": {
        "id": "xO2C2yprr3qi"
      },
      "outputs": [],
      "source": [
        "merged['Speaker'] = merged['Speaker'].map(lambda x: x.lower() if isinstance(x,str) else x)\n",
        "merged['Speaker_title'] = merged['Speaker_title'].map(lambda x: x.lower() if isinstance(x,str) else x)"
      ]
    },
    {
      "cell_type": "code",
      "execution_count": 65,
      "metadata": {
        "id": "vKa5FQbzr3qj"
      },
      "outputs": [],
      "source": [
        "merged[\"Text\"] += \" // \" + merged[\"Speaker\"] + \" // \" + merged[\"Speaker_title\"]"
      ]
    },
    {
      "cell_type": "code",
      "execution_count": 66,
      "metadata": {
        "colab": {
          "base_uri": "https://localhost:8080/",
          "height": 441
        },
        "id": "Yv2OSeYTr3qj",
        "outputId": "6a43908d-cda1-41fe-b75f-3c1822ca6423"
      },
      "outputs": [
        {
          "output_type": "execute_result",
          "data": {
            "text/plain": [
              "       Sentence_id                                               Text  \\\n",
              "11729        18148  Can I respond to that? // george w. bush // pr...   \n",
              "22588         3436  Number three, we've got to make sure that none...   \n",
              "11408        17687  But the figures show that about 8 million more...   \n",
              "16164        24020  We never would have got there if we had gone f...   \n",
              "2378          3329  Just on Monday of this week I signed a tax bil...   \n",
              "\n",
              "              Speaker          Speaker_title Speaker_party         File_id  \\\n",
              "11729  george w. bush              president    REPUBLICAN  2004-09-30.txt   \n",
              "22588    barack obama                senator      DEMOCRAT  2008-09-26.txt   \n",
              "11408  walter mondale  former vice president      DEMOCRAT  1984-10-07.txt   \n",
              "16164     george bush              president    REPUBLICAN  1992-10-11.txt   \n",
              "2378   gerald r. ford              president    REPUBLICAN  1976-10-06.txt   \n",
              "\n",
              "       Length  Line_number  Sentiment  Verdict Date Commenced  \n",
              "11729       5          216   0.000000       -1     2004-09-30  \n",
              "22588      24           43  -0.458236       -1     2008-09-26  \n",
              "11408      19          636  -0.598957        1     1984-10-07  \n",
              "16164      33          217  -0.612673       -1     1992-10-11  \n",
              "2378       40          561  -0.636017        1     1976-10-06  "
            ],
            "text/html": [
              "\n",
              "  <div id=\"df-12cd8a33-b494-4831-87f4-8d6f2c3267b5\">\n",
              "    <div class=\"colab-df-container\">\n",
              "      <div>\n",
              "<style scoped>\n",
              "    .dataframe tbody tr th:only-of-type {\n",
              "        vertical-align: middle;\n",
              "    }\n",
              "\n",
              "    .dataframe tbody tr th {\n",
              "        vertical-align: top;\n",
              "    }\n",
              "\n",
              "    .dataframe thead th {\n",
              "        text-align: right;\n",
              "    }\n",
              "</style>\n",
              "<table border=\"1\" class=\"dataframe\">\n",
              "  <thead>\n",
              "    <tr style=\"text-align: right;\">\n",
              "      <th></th>\n",
              "      <th>Sentence_id</th>\n",
              "      <th>Text</th>\n",
              "      <th>Speaker</th>\n",
              "      <th>Speaker_title</th>\n",
              "      <th>Speaker_party</th>\n",
              "      <th>File_id</th>\n",
              "      <th>Length</th>\n",
              "      <th>Line_number</th>\n",
              "      <th>Sentiment</th>\n",
              "      <th>Verdict</th>\n",
              "      <th>Date Commenced</th>\n",
              "    </tr>\n",
              "  </thead>\n",
              "  <tbody>\n",
              "    <tr>\n",
              "      <th>11729</th>\n",
              "      <td>18148</td>\n",
              "      <td>Can I respond to that? // george w. bush // pr...</td>\n",
              "      <td>george w. bush</td>\n",
              "      <td>president</td>\n",
              "      <td>REPUBLICAN</td>\n",
              "      <td>2004-09-30.txt</td>\n",
              "      <td>5</td>\n",
              "      <td>216</td>\n",
              "      <td>0.000000</td>\n",
              "      <td>-1</td>\n",
              "      <td>2004-09-30</td>\n",
              "    </tr>\n",
              "    <tr>\n",
              "      <th>22588</th>\n",
              "      <td>3436</td>\n",
              "      <td>Number three, we've got to make sure that none...</td>\n",
              "      <td>barack obama</td>\n",
              "      <td>senator</td>\n",
              "      <td>DEMOCRAT</td>\n",
              "      <td>2008-09-26.txt</td>\n",
              "      <td>24</td>\n",
              "      <td>43</td>\n",
              "      <td>-0.458236</td>\n",
              "      <td>-1</td>\n",
              "      <td>2008-09-26</td>\n",
              "    </tr>\n",
              "    <tr>\n",
              "      <th>11408</th>\n",
              "      <td>17687</td>\n",
              "      <td>But the figures show that about 8 million more...</td>\n",
              "      <td>walter mondale</td>\n",
              "      <td>former vice president</td>\n",
              "      <td>DEMOCRAT</td>\n",
              "      <td>1984-10-07.txt</td>\n",
              "      <td>19</td>\n",
              "      <td>636</td>\n",
              "      <td>-0.598957</td>\n",
              "      <td>1</td>\n",
              "      <td>1984-10-07</td>\n",
              "    </tr>\n",
              "    <tr>\n",
              "      <th>16164</th>\n",
              "      <td>24020</td>\n",
              "      <td>We never would have got there if we had gone f...</td>\n",
              "      <td>george bush</td>\n",
              "      <td>president</td>\n",
              "      <td>REPUBLICAN</td>\n",
              "      <td>1992-10-11.txt</td>\n",
              "      <td>33</td>\n",
              "      <td>217</td>\n",
              "      <td>-0.612673</td>\n",
              "      <td>-1</td>\n",
              "      <td>1992-10-11</td>\n",
              "    </tr>\n",
              "    <tr>\n",
              "      <th>2378</th>\n",
              "      <td>3329</td>\n",
              "      <td>Just on Monday of this week I signed a tax bil...</td>\n",
              "      <td>gerald r. ford</td>\n",
              "      <td>president</td>\n",
              "      <td>REPUBLICAN</td>\n",
              "      <td>1976-10-06.txt</td>\n",
              "      <td>40</td>\n",
              "      <td>561</td>\n",
              "      <td>-0.636017</td>\n",
              "      <td>1</td>\n",
              "      <td>1976-10-06</td>\n",
              "    </tr>\n",
              "  </tbody>\n",
              "</table>\n",
              "</div>\n",
              "      <button class=\"colab-df-convert\" onclick=\"convertToInteractive('df-12cd8a33-b494-4831-87f4-8d6f2c3267b5')\"\n",
              "              title=\"Convert this dataframe to an interactive table.\"\n",
              "              style=\"display:none;\">\n",
              "        \n",
              "  <svg xmlns=\"http://www.w3.org/2000/svg\" height=\"24px\"viewBox=\"0 0 24 24\"\n",
              "       width=\"24px\">\n",
              "    <path d=\"M0 0h24v24H0V0z\" fill=\"none\"/>\n",
              "    <path d=\"M18.56 5.44l.94 2.06.94-2.06 2.06-.94-2.06-.94-.94-2.06-.94 2.06-2.06.94zm-11 1L8.5 8.5l.94-2.06 2.06-.94-2.06-.94L8.5 2.5l-.94 2.06-2.06.94zm10 10l.94 2.06.94-2.06 2.06-.94-2.06-.94-.94-2.06-.94 2.06-2.06.94z\"/><path d=\"M17.41 7.96l-1.37-1.37c-.4-.4-.92-.59-1.43-.59-.52 0-1.04.2-1.43.59L10.3 9.45l-7.72 7.72c-.78.78-.78 2.05 0 2.83L4 21.41c.39.39.9.59 1.41.59.51 0 1.02-.2 1.41-.59l7.78-7.78 2.81-2.81c.8-.78.8-2.07 0-2.86zM5.41 20L4 18.59l7.72-7.72 1.47 1.35L5.41 20z\"/>\n",
              "  </svg>\n",
              "      </button>\n",
              "      \n",
              "  <style>\n",
              "    .colab-df-container {\n",
              "      display:flex;\n",
              "      flex-wrap:wrap;\n",
              "      gap: 12px;\n",
              "    }\n",
              "\n",
              "    .colab-df-convert {\n",
              "      background-color: #E8F0FE;\n",
              "      border: none;\n",
              "      border-radius: 50%;\n",
              "      cursor: pointer;\n",
              "      display: none;\n",
              "      fill: #1967D2;\n",
              "      height: 32px;\n",
              "      padding: 0 0 0 0;\n",
              "      width: 32px;\n",
              "    }\n",
              "\n",
              "    .colab-df-convert:hover {\n",
              "      background-color: #E2EBFA;\n",
              "      box-shadow: 0px 1px 2px rgba(60, 64, 67, 0.3), 0px 1px 3px 1px rgba(60, 64, 67, 0.15);\n",
              "      fill: #174EA6;\n",
              "    }\n",
              "\n",
              "    [theme=dark] .colab-df-convert {\n",
              "      background-color: #3B4455;\n",
              "      fill: #D2E3FC;\n",
              "    }\n",
              "\n",
              "    [theme=dark] .colab-df-convert:hover {\n",
              "      background-color: #434B5C;\n",
              "      box-shadow: 0px 1px 3px 1px rgba(0, 0, 0, 0.15);\n",
              "      filter: drop-shadow(0px 1px 2px rgba(0, 0, 0, 0.3));\n",
              "      fill: #FFFFFF;\n",
              "    }\n",
              "  </style>\n",
              "\n",
              "      <script>\n",
              "        const buttonEl =\n",
              "          document.querySelector('#df-12cd8a33-b494-4831-87f4-8d6f2c3267b5 button.colab-df-convert');\n",
              "        buttonEl.style.display =\n",
              "          google.colab.kernel.accessAllowed ? 'block' : 'none';\n",
              "\n",
              "        async function convertToInteractive(key) {\n",
              "          const element = document.querySelector('#df-12cd8a33-b494-4831-87f4-8d6f2c3267b5');\n",
              "          const dataTable =\n",
              "            await google.colab.kernel.invokeFunction('convertToInteractive',\n",
              "                                                     [key], {});\n",
              "          if (!dataTable) return;\n",
              "\n",
              "          const docLinkHtml = 'Like what you see? Visit the ' +\n",
              "            '<a target=\"_blank\" href=https://colab.research.google.com/notebooks/data_table.ipynb>data table notebook</a>'\n",
              "            + ' to learn more about interactive tables.';\n",
              "          element.innerHTML = '';\n",
              "          dataTable['output_type'] = 'display_data';\n",
              "          await google.colab.output.renderOutput(dataTable, element);\n",
              "          const docLink = document.createElement('div');\n",
              "          docLink.innerHTML = docLinkHtml;\n",
              "          element.appendChild(docLink);\n",
              "        }\n",
              "      </script>\n",
              "    </div>\n",
              "  </div>\n",
              "  "
            ]
          },
          "metadata": {},
          "execution_count": 66
        }
      ],
      "source": [
        "merged.head()"
      ]
    },
    {
      "cell_type": "code",
      "execution_count": 67,
      "metadata": {
        "id": "9ylxQqyTr3qk"
      },
      "outputs": [],
      "source": [
        "verdicts = {-1: 0, 1: 1}\n",
        "# Seperating the required features\n",
        "data = {}\n",
        "data['verdict'] = merged['Verdict'].map(verdicts)\n",
        "data['claim'] = merged['Text']\n",
        "# Creating new dataframe to work further\n",
        "df = {'date_commenced': merged['Date Commenced'], 'claim': data['claim'], 'verdict': data['verdict']}\n",
        "workable = pd.DataFrame(df, index=merged.index)"
      ]
    },
    {
      "cell_type": "code",
      "execution_count": 68,
      "metadata": {
        "colab": {
          "base_uri": "https://localhost:8080/",
          "height": 206
        },
        "id": "jgS_4LZsr3qk",
        "outputId": "86c15197-84b8-428b-cd87-fa742822407b"
      },
      "outputs": [
        {
          "output_type": "execute_result",
          "data": {
            "text/plain": [
              "      date_commenced                                              claim  \\\n",
              "11729     2004-09-30  Can I respond to that? // george w. bush // pr...   \n",
              "22588     2008-09-26  Number three, we've got to make sure that none...   \n",
              "11408     1984-10-07  But the figures show that about 8 million more...   \n",
              "16164     1992-10-11  We never would have got there if we had gone f...   \n",
              "2378      1976-10-06  Just on Monday of this week I signed a tax bil...   \n",
              "\n",
              "       verdict  \n",
              "11729        0  \n",
              "22588        0  \n",
              "11408        1  \n",
              "16164        0  \n",
              "2378         1  "
            ],
            "text/html": [
              "\n",
              "  <div id=\"df-49c82741-f40f-4464-8184-e563bc62ed75\">\n",
              "    <div class=\"colab-df-container\">\n",
              "      <div>\n",
              "<style scoped>\n",
              "    .dataframe tbody tr th:only-of-type {\n",
              "        vertical-align: middle;\n",
              "    }\n",
              "\n",
              "    .dataframe tbody tr th {\n",
              "        vertical-align: top;\n",
              "    }\n",
              "\n",
              "    .dataframe thead th {\n",
              "        text-align: right;\n",
              "    }\n",
              "</style>\n",
              "<table border=\"1\" class=\"dataframe\">\n",
              "  <thead>\n",
              "    <tr style=\"text-align: right;\">\n",
              "      <th></th>\n",
              "      <th>date_commenced</th>\n",
              "      <th>claim</th>\n",
              "      <th>verdict</th>\n",
              "    </tr>\n",
              "  </thead>\n",
              "  <tbody>\n",
              "    <tr>\n",
              "      <th>11729</th>\n",
              "      <td>2004-09-30</td>\n",
              "      <td>Can I respond to that? // george w. bush // pr...</td>\n",
              "      <td>0</td>\n",
              "    </tr>\n",
              "    <tr>\n",
              "      <th>22588</th>\n",
              "      <td>2008-09-26</td>\n",
              "      <td>Number three, we've got to make sure that none...</td>\n",
              "      <td>0</td>\n",
              "    </tr>\n",
              "    <tr>\n",
              "      <th>11408</th>\n",
              "      <td>1984-10-07</td>\n",
              "      <td>But the figures show that about 8 million more...</td>\n",
              "      <td>1</td>\n",
              "    </tr>\n",
              "    <tr>\n",
              "      <th>16164</th>\n",
              "      <td>1992-10-11</td>\n",
              "      <td>We never would have got there if we had gone f...</td>\n",
              "      <td>0</td>\n",
              "    </tr>\n",
              "    <tr>\n",
              "      <th>2378</th>\n",
              "      <td>1976-10-06</td>\n",
              "      <td>Just on Monday of this week I signed a tax bil...</td>\n",
              "      <td>1</td>\n",
              "    </tr>\n",
              "  </tbody>\n",
              "</table>\n",
              "</div>\n",
              "      <button class=\"colab-df-convert\" onclick=\"convertToInteractive('df-49c82741-f40f-4464-8184-e563bc62ed75')\"\n",
              "              title=\"Convert this dataframe to an interactive table.\"\n",
              "              style=\"display:none;\">\n",
              "        \n",
              "  <svg xmlns=\"http://www.w3.org/2000/svg\" height=\"24px\"viewBox=\"0 0 24 24\"\n",
              "       width=\"24px\">\n",
              "    <path d=\"M0 0h24v24H0V0z\" fill=\"none\"/>\n",
              "    <path d=\"M18.56 5.44l.94 2.06.94-2.06 2.06-.94-2.06-.94-.94-2.06-.94 2.06-2.06.94zm-11 1L8.5 8.5l.94-2.06 2.06-.94-2.06-.94L8.5 2.5l-.94 2.06-2.06.94zm10 10l.94 2.06.94-2.06 2.06-.94-2.06-.94-.94-2.06-.94 2.06-2.06.94z\"/><path d=\"M17.41 7.96l-1.37-1.37c-.4-.4-.92-.59-1.43-.59-.52 0-1.04.2-1.43.59L10.3 9.45l-7.72 7.72c-.78.78-.78 2.05 0 2.83L4 21.41c.39.39.9.59 1.41.59.51 0 1.02-.2 1.41-.59l7.78-7.78 2.81-2.81c.8-.78.8-2.07 0-2.86zM5.41 20L4 18.59l7.72-7.72 1.47 1.35L5.41 20z\"/>\n",
              "  </svg>\n",
              "      </button>\n",
              "      \n",
              "  <style>\n",
              "    .colab-df-container {\n",
              "      display:flex;\n",
              "      flex-wrap:wrap;\n",
              "      gap: 12px;\n",
              "    }\n",
              "\n",
              "    .colab-df-convert {\n",
              "      background-color: #E8F0FE;\n",
              "      border: none;\n",
              "      border-radius: 50%;\n",
              "      cursor: pointer;\n",
              "      display: none;\n",
              "      fill: #1967D2;\n",
              "      height: 32px;\n",
              "      padding: 0 0 0 0;\n",
              "      width: 32px;\n",
              "    }\n",
              "\n",
              "    .colab-df-convert:hover {\n",
              "      background-color: #E2EBFA;\n",
              "      box-shadow: 0px 1px 2px rgba(60, 64, 67, 0.3), 0px 1px 3px 1px rgba(60, 64, 67, 0.15);\n",
              "      fill: #174EA6;\n",
              "    }\n",
              "\n",
              "    [theme=dark] .colab-df-convert {\n",
              "      background-color: #3B4455;\n",
              "      fill: #D2E3FC;\n",
              "    }\n",
              "\n",
              "    [theme=dark] .colab-df-convert:hover {\n",
              "      background-color: #434B5C;\n",
              "      box-shadow: 0px 1px 3px 1px rgba(0, 0, 0, 0.15);\n",
              "      filter: drop-shadow(0px 1px 2px rgba(0, 0, 0, 0.3));\n",
              "      fill: #FFFFFF;\n",
              "    }\n",
              "  </style>\n",
              "\n",
              "      <script>\n",
              "        const buttonEl =\n",
              "          document.querySelector('#df-49c82741-f40f-4464-8184-e563bc62ed75 button.colab-df-convert');\n",
              "        buttonEl.style.display =\n",
              "          google.colab.kernel.accessAllowed ? 'block' : 'none';\n",
              "\n",
              "        async function convertToInteractive(key) {\n",
              "          const element = document.querySelector('#df-49c82741-f40f-4464-8184-e563bc62ed75');\n",
              "          const dataTable =\n",
              "            await google.colab.kernel.invokeFunction('convertToInteractive',\n",
              "                                                     [key], {});\n",
              "          if (!dataTable) return;\n",
              "\n",
              "          const docLinkHtml = 'Like what you see? Visit the ' +\n",
              "            '<a target=\"_blank\" href=https://colab.research.google.com/notebooks/data_table.ipynb>data table notebook</a>'\n",
              "            + ' to learn more about interactive tables.';\n",
              "          element.innerHTML = '';\n",
              "          dataTable['output_type'] = 'display_data';\n",
              "          await google.colab.output.renderOutput(dataTable, element);\n",
              "          const docLink = document.createElement('div');\n",
              "          docLink.innerHTML = docLinkHtml;\n",
              "          element.appendChild(docLink);\n",
              "        }\n",
              "      </script>\n",
              "    </div>\n",
              "  </div>\n",
              "  "
            ]
          },
          "metadata": {},
          "execution_count": 68
        }
      ],
      "source": [
        "workable.head()"
      ]
    },
    {
      "cell_type": "code",
      "execution_count": 69,
      "metadata": {
        "colab": {
          "base_uri": "https://localhost:8080/",
          "height": 405
        },
        "id": "2c_mh6MUr3qk",
        "outputId": "3361884e-5d52-4236-e307-324694511340"
      },
      "outputs": [
        {
          "output_type": "execute_result",
          "data": {
            "text/plain": [
              "<Axes: xlabel='verdict', ylabel='count'>"
            ]
          },
          "metadata": {},
          "execution_count": 69
        },
        {
          "output_type": "display_data",
          "data": {
            "text/plain": [
              "<Figure size 400x400 with 1 Axes>"
            ],
            "image/png": "[encoded data removed]"
          },
          "metadata": {}
        }
      ],
      "source": [
        "plt.figure(figsize=(4, 4))\n",
        "sns.countplot(x ='verdict', data = workable)"
      ]
    },
    {
      "cell_type": "code",
      "execution_count": 70,
      "metadata": {
        "colab": {
          "base_uri": "https://localhost:8080/",
          "height": 206
        },
        "id": "y3PD8dBVr3ql",
        "outputId": "30260aba-9a7e-466b-e156-6613cdad4259"
      },
      "outputs": [
        {
          "output_type": "execute_result",
          "data": {
            "text/plain": [
              "      date_commenced                                              claim  \\\n",
              "11729     2004-09-30  Can I respond to that? // george w. bush // pr...   \n",
              "22588     2008-09-26  Number three, we've got to make sure that none...   \n",
              "11408     1984-10-07  But the figures show that about 8 million more...   \n",
              "16164     1992-10-11  We never would have got there if we had gone f...   \n",
              "2378      1976-10-06  Just on Monday of this week I signed a tax bil...   \n",
              "\n",
              "       verdict  \n",
              "11729        0  \n",
              "22588        0  \n",
              "11408        1  \n",
              "16164        0  \n",
              "2378         1  "
            ],
            "text/html": [
              "\n",
              "  <div id=\"df-36de6c4d-7b0a-4324-b245-eb7fd81a8ad4\">\n",
              "    <div class=\"colab-df-container\">\n",
              "      <div>\n",
              "<style scoped>\n",
              "    .dataframe tbody tr th:only-of-type {\n",
              "        vertical-align: middle;\n",
              "    }\n",
              "\n",
              "    .dataframe tbody tr th {\n",
              "        vertical-align: top;\n",
              "    }\n",
              "\n",
              "    .dataframe thead th {\n",
              "        text-align: right;\n",
              "    }\n",
              "</style>\n",
              "<table border=\"1\" class=\"dataframe\">\n",
              "  <thead>\n",
              "    <tr style=\"text-align: right;\">\n",
              "      <th></th>\n",
              "      <th>date_commenced</th>\n",
              "      <th>claim</th>\n",
              "      <th>verdict</th>\n",
              "    </tr>\n",
              "  </thead>\n",
              "  <tbody>\n",
              "    <tr>\n",
              "      <th>11729</th>\n",
              "      <td>2004-09-30</td>\n",
              "      <td>Can I respond to that? // george w. bush // pr...</td>\n",
              "      <td>0</td>\n",
              "    </tr>\n",
              "    <tr>\n",
              "      <th>22588</th>\n",
              "      <td>2008-09-26</td>\n",
              "      <td>Number three, we've got to make sure that none...</td>\n",
              "      <td>0</td>\n",
              "    </tr>\n",
              "    <tr>\n",
              "      <th>11408</th>\n",
              "      <td>1984-10-07</td>\n",
              "      <td>But the figures show that about 8 million more...</td>\n",
              "      <td>1</td>\n",
              "    </tr>\n",
              "    <tr>\n",
              "      <th>16164</th>\n",
              "      <td>1992-10-11</td>\n",
              "      <td>We never would have got there if we had gone f...</td>\n",
              "      <td>0</td>\n",
              "    </tr>\n",
              "    <tr>\n",
              "      <th>2378</th>\n",
              "      <td>1976-10-06</td>\n",
              "      <td>Just on Monday of this week I signed a tax bil...</td>\n",
              "      <td>1</td>\n",
              "    </tr>\n",
              "  </tbody>\n",
              "</table>\n",
              "</div>\n",
              "      <button class=\"colab-df-convert\" onclick=\"convertToInteractive('df-36de6c4d-7b0a-4324-b245-eb7fd81a8ad4')\"\n",
              "              title=\"Convert this dataframe to an interactive table.\"\n",
              "              style=\"display:none;\">\n",
              "        \n",
              "  <svg xmlns=\"http://www.w3.org/2000/svg\" height=\"24px\"viewBox=\"0 0 24 24\"\n",
              "       width=\"24px\">\n",
              "    <path d=\"M0 0h24v24H0V0z\" fill=\"none\"/>\n",
              "    <path d=\"M18.56 5.44l.94 2.06.94-2.06 2.06-.94-2.06-.94-.94-2.06-.94 2.06-2.06.94zm-11 1L8.5 8.5l.94-2.06 2.06-.94-2.06-.94L8.5 2.5l-.94 2.06-2.06.94zm10 10l.94 2.06.94-2.06 2.06-.94-2.06-.94-.94-2.06-.94 2.06-2.06.94z\"/><path d=\"M17.41 7.96l-1.37-1.37c-.4-.4-.92-.59-1.43-.59-.52 0-1.04.2-1.43.59L10.3 9.45l-7.72 7.72c-.78.78-.78 2.05 0 2.83L4 21.41c.39.39.9.59 1.41.59.51 0 1.02-.2 1.41-.59l7.78-7.78 2.81-2.81c.8-.78.8-2.07 0-2.86zM5.41 20L4 18.59l7.72-7.72 1.47 1.35L5.41 20z\"/>\n",
              "  </svg>\n",
              "      </button>\n",
              "      \n",
              "  <style>\n",
              "    .colab-df-container {\n",
              "      display:flex;\n",
              "      flex-wrap:wrap;\n",
              "      gap: 12px;\n",
              "    }\n",
              "\n",
              "    .colab-df-convert {\n",
              "      background-color: #E8F0FE;\n",
              "      border: none;\n",
              "      border-radius: 50%;\n",
              "      cursor: pointer;\n",
              "      display: none;\n",
              "      fill: #1967D2;\n",
              "      height: 32px;\n",
              "      padding: 0 0 0 0;\n",
              "      width: 32px;\n",
              "    }\n",
              "\n",
              "    .colab-df-convert:hover {\n",
              "      background-color: #E2EBFA;\n",
              "      box-shadow: 0px 1px 2px rgba(60, 64, 67, 0.3), 0px 1px 3px 1px rgba(60, 64, 67, 0.15);\n",
              "      fill: #174EA6;\n",
              "    }\n",
              "\n",
              "    [theme=dark] .colab-df-convert {\n",
              "      background-color: #3B4455;\n",
              "      fill: #D2E3FC;\n",
              "    }\n",
              "\n",
              "    [theme=dark] .colab-df-convert:hover {\n",
              "      background-color: #434B5C;\n",
              "      box-shadow: 0px 1px 3px 1px rgba(0, 0, 0, 0.15);\n",
              "      filter: drop-shadow(0px 1px 2px rgba(0, 0, 0, 0.3));\n",
              "      fill: #FFFFFF;\n",
              "    }\n",
              "  </style>\n",
              "\n",
              "      <script>\n",
              "        const buttonEl =\n",
              "          document.querySelector('#df-36de6c4d-7b0a-4324-b245-eb7fd81a8ad4 button.colab-df-convert');\n",
              "        buttonEl.style.display =\n",
              "          google.colab.kernel.accessAllowed ? 'block' : 'none';\n",
              "\n",
              "        async function convertToInteractive(key) {\n",
              "          const element = document.querySelector('#df-36de6c4d-7b0a-4324-b245-eb7fd81a8ad4');\n",
              "          const dataTable =\n",
              "            await google.colab.kernel.invokeFunction('convertToInteractive',\n",
              "                                                     [key], {});\n",
              "          if (!dataTable) return;\n",
              "\n",
              "          const docLinkHtml = 'Like what you see? Visit the ' +\n",
              "            '<a target=\"_blank\" href=https://colab.research.google.com/notebooks/data_table.ipynb>data table notebook</a>'\n",
              "            + ' to learn more about interactive tables.';\n",
              "          element.innerHTML = '';\n",
              "          dataTable['output_type'] = 'display_data';\n",
              "          await google.colab.output.renderOutput(dataTable, element);\n",
              "          const docLink = document.createElement('div');\n",
              "          docLink.innerHTML = docLinkHtml;\n",
              "          element.appendChild(docLink);\n",
              "        }\n",
              "      </script>\n",
              "    </div>\n",
              "  </div>\n",
              "  "
            ]
          },
          "metadata": {},
          "execution_count": 70
        }
      ],
      "source": [
        "workable.head()"
      ]
    },
    {
      "cell_type": "code",
      "execution_count": 71,
      "metadata": {
        "colab": {
          "base_uri": "https://localhost:8080/"
        },
        "id": "xqCT7pxDr3ql",
        "outputId": "00dd0e64-c5bd-4096-a787-c7b812d998d7"
      },
      "outputs": [
        {
          "output_type": "stream",
          "name": "stdout",
          "text": [
            "Looking in indexes: https://pypi.org/simple, https://us-python.pkg.dev/colab-wheels/public/simple/\n",
            "Requirement already satisfied: nltk in /usr/local/lib/python3.9/dist-packages (3.8.1)\n",
            "Requirement already satisfied: joblib in /usr/local/lib/python3.9/dist-packages (from nltk) (1.2.0)\n",
            "Requirement already satisfied: click in /usr/local/lib/python3.9/dist-packages (from nltk) (8.1.3)\n",
            "Requirement already satisfied: regex>=2021.8.3 in /usr/local/lib/python3.9/dist-packages (from nltk) (2022.10.31)\n",
            "Requirement already satisfied: tqdm in /usr/local/lib/python3.9/dist-packages (from nltk) (4.65.0)\n",
            "Looking in indexes: https://pypi.org/simple, https://us-python.pkg.dev/colab-wheels/public/simple/\n",
            "Requirement already satisfied: scikit-plot in /usr/local/lib/python3.9/dist-packages (0.3.7)\n",
            "Requirement already satisfied: scikit-learn>=0.18 in /usr/local/lib/python3.9/dist-packages (from scikit-plot) (1.2.2)\n",
            "Requirement already satisfied: scipy>=0.9 in /usr/local/lib/python3.9/dist-packages (from scikit-plot) (1.10.1)\n",
            "Requirement already satisfied: joblib>=0.10 in /usr/local/lib/python3.9/dist-packages (from scikit-plot) (1.2.0)\n",
            "Requirement already satisfied: matplotlib>=1.4.0 in /usr/local/lib/python3.9/dist-packages (from scikit-plot) (3.7.1)\n",
            "Requirement already satisfied: kiwisolver>=1.0.1 in /usr/local/lib/python3.9/dist-packages (from matplotlib>=1.4.0->scikit-plot) (1.4.4)\n",
            "Requirement already satisfied: packaging>=20.0 in /usr/local/lib/python3.9/dist-packages (from matplotlib>=1.4.0->scikit-plot) (23.1)\n",
            "Requirement already satisfied: fonttools>=4.22.0 in /usr/local/lib/python3.9/dist-packages (from matplotlib>=1.4.0->scikit-plot) (4.39.3)\n",
            "Requirement already satisfied: contourpy>=1.0.1 in /usr/local/lib/python3.9/dist-packages (from matplotlib>=1.4.0->scikit-plot) (1.0.7)\n",
            "Requirement already satisfied: importlib-resources>=3.2.0 in /usr/local/lib/python3.9/dist-packages (from matplotlib>=1.4.0->scikit-plot) (5.12.0)\n",
            "Requirement already satisfied: pillow>=6.2.0 in /usr/local/lib/python3.9/dist-packages (from matplotlib>=1.4.0->scikit-plot) (8.4.0)\n",
            "Requirement already satisfied: cycler>=0.10 in /usr/local/lib/python3.9/dist-packages (from matplotlib>=1.4.0->scikit-plot) (0.11.0)\n",
            "Requirement already satisfied: pyparsing>=2.3.1 in /usr/local/lib/python3.9/dist-packages (from matplotlib>=1.4.0->scikit-plot) (3.0.9)\n",
            "Requirement already satisfied: numpy>=1.20 in /usr/local/lib/python3.9/dist-packages (from matplotlib>=1.4.0->scikit-plot) (1.22.4)\n",
            "Requirement already satisfied: python-dateutil>=2.7 in /usr/local/lib/python3.9/dist-packages (from matplotlib>=1.4.0->scikit-plot) (2.8.2)\n",
            "Requirement already satisfied: threadpoolctl>=2.0.0 in /usr/local/lib/python3.9/dist-packages (from scikit-learn>=0.18->scikit-plot) (3.1.0)\n",
            "Requirement already satisfied: zipp>=3.1.0 in /usr/local/lib/python3.9/dist-packages (from importlib-resources>=3.2.0->matplotlib>=1.4.0->scikit-plot) (3.15.0)\n",
            "Requirement already satisfied: six>=1.5 in /usr/local/lib/python3.9/dist-packages (from python-dateutil>=2.7->matplotlib>=1.4.0->scikit-plot) (1.16.0)\n",
            "Looking in indexes: https://pypi.org/simple, https://us-python.pkg.dev/colab-wheels/public/simple/\n",
            "Collecting sklearn\n",
            "  Using cached sklearn-0.0.post4.tar.gz (3.6 kB)\n",
            "  \u001b[1;31merror\u001b[0m: \u001b[1msubprocess-exited-with-error\u001b[0m\n",
            "  \n",
            "  \u001b[31m×\u001b[0m \u001b[32mpython setup.py egg_info\u001b[0m did not run successfully.\n",
            "  \u001b[31m│\u001b[0m exit code: \u001b[1;36m1\u001b[0m\n",
            "  \u001b[31m╰─>\u001b[0m See above for output.\n",
            "  \n",
            "  \u001b[1;35mnote\u001b[0m: This error originates from a subprocess, and is likely not a problem with pip.\n",
            "  Preparing metadata (setup.py) ... \u001b[?25l\u001b[?25herror\n",
            "\u001b[1;31merror\u001b[0m: \u001b[1mmetadata-generation-failed\u001b[0m\n",
            "\n",
            "\u001b[31m×\u001b[0m Encountered error while generating package metadata.\n",
            "\u001b[31m╰─>\u001b[0m See above for output.\n",
            "\n",
            "\u001b[1;35mnote\u001b[0m: This is an issue with the package mentioned above, not pip.\n",
            "\u001b[1;36mhint\u001b[0m: See above for details.\n"
          ]
        }
      ],
      "source": [
        "!pip3 install nltk\n",
        "!pip3 install scikit-plot\n",
        "!pip3 install sklearn 0.22"
      ]
    },
    {
      "cell_type": "code",
      "execution_count": 72,
      "metadata": {
        "colab": {
          "base_uri": "https://localhost:8080/"
        },
        "id": "VrCTObn4r3qm",
        "outputId": "a9fbf259-6401-47c1-d84b-7c231f87cb7b"
      },
      "outputs": [
        {
          "output_type": "stream",
          "name": "stderr",
          "text": [
            "[nltk_data] Downloading package stopwords to /root/nltk_data...\n",
            "[nltk_data]   Package stopwords is already up-to-date!\n",
            "[nltk_data] Downloading package wordnet to /root/nltk_data...\n",
            "[nltk_data]   Package wordnet is already up-to-date!\n",
            "[nltk_data] Downloading package omw-1.4 to /root/nltk_data...\n",
            "[nltk_data]   Package omw-1.4 is already up-to-date!\n",
            "[nltk_data] Downloading package punkt to /root/nltk_data...\n",
            "[nltk_data]   Package punkt is already up-to-date!\n"
          ]
        }
      ],
      "source": [
        "nltk.download('stopwords')\n",
        "nltk.download('wordnet')\n",
        "nltk.download('omw-1.4')\n",
        "nltk.download('punkt')\n",
        "import re\n",
        "import string\n",
        "from nltk.tokenize import word_tokenize\n",
        "from nltk.corpus import stopwords\n",
        "from nltk.stem.porter import PorterStemmer\n",
        "from nltk.stem import WordNetLemmatizer"
      ]
    },
    {
      "cell_type": "code",
      "execution_count": 73,
      "metadata": {
        "id": "WepKavjJr3qm"
      },
      "outputs": [],
      "source": [
        "sw = set(stopwords.words('english'))\n",
        "\n",
        "def punctuations(text):\n",
        "    text = text.lower()\n",
        "    punctuations = re.sub('[!\"#$%&\\'()*+,-./:;<=>?@[\\\\]^_`{|}~]', ' ', text)\n",
        "    onlychars = re.sub('[^a-z]', ' ', punctuations)\n",
        "    stripedspaces = re.sub('\\s+', ' ', onlychars)\n",
        "    return stripedspaces\n",
        "\n",
        "def sw_remove_lemmatize(text):\n",
        "    tokens = word_tokenize(text)\n",
        "   \n",
        "    lemmetizer = WordNetLemmatizer()\n",
        "    final = []\n",
        "\n",
        "    for item in tokens:\n",
        "        if item not in sw:         \n",
        "            final.append(lemmetizer.lemmatize(item))\n",
        "        \n",
        "    return ' '.join(final)\n",
        "\n",
        "def preprocessing(df, target):\n",
        "    df_processing = df.copy()\n",
        "    df_processing[target] = df_processing.apply(lambda item: punctuations(item[target]), axis=1)  \n",
        "    df_processing[target] = df_processing.apply(lambda item: sw_remove_lemmatize(item[target]), axis=1)        \n",
        "    df_processing = df_processing.reset_index(drop = True)\n",
        "    return df_processing"
      ]
    },
    {
      "cell_type": "code",
      "source": [
        "final_merged = preprocessing(workable, 'claim')"
      ],
      "metadata": {
        "id": "uBmr4KL7zBXU"
      },
      "execution_count": 74,
      "outputs": []
    },
    {
      "cell_type": "code",
      "execution_count": 75,
      "metadata": {
        "colab": {
          "base_uri": "https://localhost:8080/",
          "height": 206
        },
        "id": "p0rtK9mXr3qn",
        "outputId": "9de74189-b1cb-4042-a9e2-ac32ee9a88ce"
      },
      "outputs": [
        {
          "output_type": "execute_result",
          "data": {
            "text/plain": [
              "  date_commenced                                              claim  verdict\n",
              "0     2004-09-30                    respond george w bush president        0\n",
              "1     2008-09-26  number three got make sure none money going pa...        0\n",
              "2     1984-10-07  figure show million people poverty line year a...        1\n",
              "3     1992-10-11  never would got gone nuclear freeze crowd neve...        0\n",
              "4     1976-10-06  monday week signed tax bill included amendment...        1"
            ],
            "text/html": [
              "\n",
              "  <div id=\"df-6d6a3a7a-a33f-4ef1-857e-420905c8315e\">\n",
              "    <div class=\"colab-df-container\">\n",
              "      <div>\n",
              "<style scoped>\n",
              "    .dataframe tbody tr th:only-of-type {\n",
              "        vertical-align: middle;\n",
              "    }\n",
              "\n",
              "    .dataframe tbody tr th {\n",
              "        vertical-align: top;\n",
              "    }\n",
              "\n",
              "    .dataframe thead th {\n",
              "        text-align: right;\n",
              "    }\n",
              "</style>\n",
              "<table border=\"1\" class=\"dataframe\">\n",
              "  <thead>\n",
              "    <tr style=\"text-align: right;\">\n",
              "      <th></th>\n",
              "      <th>date_commenced</th>\n",
              "      <th>claim</th>\n",
              "      <th>verdict</th>\n",
              "    </tr>\n",
              "  </thead>\n",
              "  <tbody>\n",
              "    <tr>\n",
              "      <th>0</th>\n",
              "      <td>2004-09-30</td>\n",
              "      <td>respond george w bush president</td>\n",
              "      <td>0</td>\n",
              "    </tr>\n",
              "    <tr>\n",
              "      <th>1</th>\n",
              "      <td>2008-09-26</td>\n",
              "      <td>number three got make sure none money going pa...</td>\n",
              "      <td>0</td>\n",
              "    </tr>\n",
              "    <tr>\n",
              "      <th>2</th>\n",
              "      <td>1984-10-07</td>\n",
              "      <td>figure show million people poverty line year a...</td>\n",
              "      <td>1</td>\n",
              "    </tr>\n",
              "    <tr>\n",
              "      <th>3</th>\n",
              "      <td>1992-10-11</td>\n",
              "      <td>never would got gone nuclear freeze crowd neve...</td>\n",
              "      <td>0</td>\n",
              "    </tr>\n",
              "    <tr>\n",
              "      <th>4</th>\n",
              "      <td>1976-10-06</td>\n",
              "      <td>monday week signed tax bill included amendment...</td>\n",
              "      <td>1</td>\n",
              "    </tr>\n",
              "  </tbody>\n",
              "</table>\n",
              "</div>\n",
              "      <button class=\"colab-df-convert\" onclick=\"convertToInteractive('df-6d6a3a7a-a33f-4ef1-857e-420905c8315e')\"\n",
              "              title=\"Convert this dataframe to an interactive table.\"\n",
              "              style=\"display:none;\">\n",
              "        \n",
              "  <svg xmlns=\"http://www.w3.org/2000/svg\" height=\"24px\"viewBox=\"0 0 24 24\"\n",
              "       width=\"24px\">\n",
              "    <path d=\"M0 0h24v24H0V0z\" fill=\"none\"/>\n",
              "    <path d=\"M18.56 5.44l.94 2.06.94-2.06 2.06-.94-2.06-.94-.94-2.06-.94 2.06-2.06.94zm-11 1L8.5 8.5l.94-2.06 2.06-.94-2.06-.94L8.5 2.5l-.94 2.06-2.06.94zm10 10l.94 2.06.94-2.06 2.06-.94-2.06-.94-.94-2.06-.94 2.06-2.06.94z\"/><path d=\"M17.41 7.96l-1.37-1.37c-.4-.4-.92-.59-1.43-.59-.52 0-1.04.2-1.43.59L10.3 9.45l-7.72 7.72c-.78.78-.78 2.05 0 2.83L4 21.41c.39.39.9.59 1.41.59.51 0 1.02-.2 1.41-.59l7.78-7.78 2.81-2.81c.8-.78.8-2.07 0-2.86zM5.41 20L4 18.59l7.72-7.72 1.47 1.35L5.41 20z\"/>\n",
              "  </svg>\n",
              "      </button>\n",
              "      \n",
              "  <style>\n",
              "    .colab-df-container {\n",
              "      display:flex;\n",
              "      flex-wrap:wrap;\n",
              "      gap: 12px;\n",
              "    }\n",
              "\n",
              "    .colab-df-convert {\n",
              "      background-color: #E8F0FE;\n",
              "      border: none;\n",
              "      border-radius: 50%;\n",
              "      cursor: pointer;\n",
              "      display: none;\n",
              "      fill: #1967D2;\n",
              "      height: 32px;\n",
              "      padding: 0 0 0 0;\n",
              "      width: 32px;\n",
              "    }\n",
              "\n",
              "    .colab-df-convert:hover {\n",
              "      background-color: #E2EBFA;\n",
              "      box-shadow: 0px 1px 2px rgba(60, 64, 67, 0.3), 0px 1px 3px 1px rgba(60, 64, 67, 0.15);\n",
              "      fill: #174EA6;\n",
              "    }\n",
              "\n",
              "    [theme=dark] .colab-df-convert {\n",
              "      background-color: #3B4455;\n",
              "      fill: #D2E3FC;\n",
              "    }\n",
              "\n",
              "    [theme=dark] .colab-df-convert:hover {\n",
              "      background-color: #434B5C;\n",
              "      box-shadow: 0px 1px 3px 1px rgba(0, 0, 0, 0.15);\n",
              "      filter: drop-shadow(0px 1px 2px rgba(0, 0, 0, 0.3));\n",
              "      fill: #FFFFFF;\n",
              "    }\n",
              "  </style>\n",
              "\n",
              "      <script>\n",
              "        const buttonEl =\n",
              "          document.querySelector('#df-6d6a3a7a-a33f-4ef1-857e-420905c8315e button.colab-df-convert');\n",
              "        buttonEl.style.display =\n",
              "          google.colab.kernel.accessAllowed ? 'block' : 'none';\n",
              "\n",
              "        async function convertToInteractive(key) {\n",
              "          const element = document.querySelector('#df-6d6a3a7a-a33f-4ef1-857e-420905c8315e');\n",
              "          const dataTable =\n",
              "            await google.colab.kernel.invokeFunction('convertToInteractive',\n",
              "                                                     [key], {});\n",
              "          if (!dataTable) return;\n",
              "\n",
              "          const docLinkHtml = 'Like what you see? Visit the ' +\n",
              "            '<a target=\"_blank\" href=https://colab.research.google.com/notebooks/data_table.ipynb>data table notebook</a>'\n",
              "            + ' to learn more about interactive tables.';\n",
              "          element.innerHTML = '';\n",
              "          dataTable['output_type'] = 'display_data';\n",
              "          await google.colab.output.renderOutput(dataTable, element);\n",
              "          const docLink = document.createElement('div');\n",
              "          docLink.innerHTML = docLinkHtml;\n",
              "          element.appendChild(docLink);\n",
              "        }\n",
              "      </script>\n",
              "    </div>\n",
              "  </div>\n",
              "  "
            ]
          },
          "metadata": {},
          "execution_count": 75
        }
      ],
      "source": [
        "final_merged.head()"
      ]
    },
    {
      "cell_type": "code",
      "execution_count": 76,
      "metadata": {
        "colab": {
          "base_uri": "https://localhost:8080/"
        },
        "id": "Jqm2KbKXr3qo",
        "outputId": "465ff9e8-8b31-4ed3-d399-c862ca5a5c18"
      },
      "outputs": [
        {
          "output_type": "execute_result",
          "data": {
            "text/plain": [
              "(11302, 3)"
            ]
          },
          "metadata": {},
          "execution_count": 76
        }
      ],
      "source": [
        "final_merged.shape"
      ]
    },
    {
      "cell_type": "code",
      "execution_count": 77,
      "metadata": {
        "id": "BjsqzkO7r3qo"
      },
      "outputs": [],
      "source": [
        "# train = Mergeddata_P[(Mergeddata_P['date_commenced'] < '2008-01-01') & (Mergeddata_P['date_commenced'] > '1960-01-01')]\n",
        "# test = Mergeddata_P[(Mergeddata_P['date_commenced'] < '2016-01-01') & (Mergeddata_P['date_commenced'] > '2012-01-01')]"
      ]
    },
    {
      "cell_type": "code",
      "execution_count": 78,
      "metadata": {
        "id": "kjVa--vDr3qo"
      },
      "outputs": [],
      "source": [
        "# train.head()"
      ]
    },
    {
      "cell_type": "code",
      "execution_count": 79,
      "metadata": {
        "id": "ijwjHt3Yr3qp"
      },
      "outputs": [],
      "source": [
        "# test.shape"
      ]
    },
    {
      "cell_type": "code",
      "execution_count": 80,
      "metadata": {
        "id": "blhR8pNBr3qp"
      },
      "outputs": [],
      "source": [
        "# X_train, X_test, y_train, y_test = train['claim'], test['claim'], train['verdict'], test['verdict']"
      ]
    },
    {
      "cell_type": "code",
      "source": [
        "from sklearn.model_selection import train_test_split\n",
        "from sklearn.feature_extraction.text import TfidfVectorizer\n",
        "\n",
        "def ttsplit(df):\n",
        "  X = data['claim']\n",
        "  y = data['verdict']\n",
        "\n",
        "  X_train, X_test, y_train, y_test = train_test_split(X, y, train_size = 0.80, random_state=123, shuffle=True)\n",
        "  return X_train, X_test, y_train, y_test"
      ],
      "metadata": {
        "id": "gHwjPcLl2GLc"
      },
      "execution_count": 81,
      "outputs": []
    },
    {
      "cell_type": "code",
      "source": [
        "def tfvectorizer(df):\n",
        "  X_train, X_test, y_train, y_test = ttsplit(df)\n",
        "  ## Training transformation\n",
        "  tfidf = TfidfVectorizer(max_features=5000, stop_words=\"english\")\n",
        "  tfidf_train = tfidf.fit_transform(X_train)\n",
        "  tfidf_train = tfidf_train.toarray()\n",
        "  ## Test transformation\n",
        "  tfidf_test = tfidf.transform(X_test).toarray()\n",
        "\n",
        "  return tfidf_train, tfidf_test, y_train, y_test"
      ],
      "metadata": {
        "id": "gKUVU2bQ2YbJ"
      },
      "execution_count": 82,
      "outputs": []
    },
    {
      "cell_type": "code",
      "source": [
        "def report(actual, predicted, model_name, accuracy, recall, precision, f1):\n",
        "  print(model_name)\n",
        "  print(\"=\"*20)\n",
        "  print(\"Accuracy: \", accuracy)    \n",
        "  print(\"Recall: \", recall)\n",
        "  print(\"Precision: \", precision)\n",
        "  print(\"F1: \", f1)\n",
        "  print(\"=\"*55)     \n",
        "  print(classification_report(actual, predicted))\n",
        "\n",
        "def cm(actual, predicted):\n",
        "  cm = confusion_matrix(actual, predicted)\n",
        "  cm_display = metrics.ConfusionMatrixDisplay(confusion_matrix = cm, display_labels = [False, True])\n",
        "  cm_display.plot()\n",
        "  plt.figure(figsize=(2,2))\n",
        "  plt.show()"
      ],
      "metadata": {
        "id": "vm66Kyqs9V2v"
      },
      "execution_count": 83,
      "outputs": []
    },
    {
      "cell_type": "code",
      "source": [
        "X_train, X_test, y_train, y_test = tfvectorizer(final_merged)"
      ],
      "metadata": {
        "id": "dWPoHvTh4Iyn"
      },
      "execution_count": 84,
      "outputs": []
    },
    {
      "cell_type": "code",
      "source": [
        "y_test"
      ],
      "metadata": {
        "colab": {
          "base_uri": "https://localhost:8080/"
        },
        "id": "dgy-HLdOdot5",
        "outputId": "d7531ba0-17e8-4d70-eb45-49fba26dae6c"
      },
      "execution_count": 85,
      "outputs": [
        {
          "output_type": "execute_result",
          "data": {
            "text/plain": [
              "12857    0\n",
              "21717    0\n",
              "16671    0\n",
              "9840     1\n",
              "6081     1\n",
              "        ..\n",
              "17207    1\n",
              "9627     0\n",
              "3708     0\n",
              "19730    0\n",
              "13467    0\n",
              "Name: Verdict, Length: 2261, dtype: int64"
            ]
          },
          "metadata": {},
          "execution_count": 85
        }
      ]
    },
    {
      "cell_type": "code",
      "source": [
        "from sklearn.linear_model import LogisticRegression\n",
        "from sklearn.ensemble import RandomForestClassifier\n",
        "from sklearn.ensemble import AdaBoostClassifier\n",
        "from sklearn.naive_bayes import MultinomialNB\n",
        "from sklearn import metrics\n",
        "from sklearn.tree import DecisionTreeClassifier\n",
        "from sklearn import model_selection, svm\n",
        "from matplotlib import pyplot as plt\n",
        "from sklearn.metrics import accuracy_score, confusion_matrix, precision_score, recall_score, f1_score, classification_report\n",
        "import matplotlib.pyplot as plt\n",
        "import scikitplot as skplt"
      ],
      "metadata": {
        "id": "0GY1IDLB5eBv"
      },
      "execution_count": 86,
      "outputs": []
    },
    {
      "cell_type": "code",
      "source": [
        "# Setting up the plotting area\n",
        "plt.figure(0).clf()\n",
        "\n",
        "lr = LogisticRegression()        \n",
        "lr.fit(X_train, y_train)\n",
        "lr_predict = lr.predict(X_test)\n",
        "lr_probes = lr.predict_proba(X_test)[:, 1]\n",
        "\n",
        "lr_accuracy = accuracy_score(y_test, lr_predict)\n",
        "lr_recall = recall_score(y_test, lr_predict) \n",
        "lr_f1 = f1_score(y_test, lr_predict) \n",
        "lr_precision = precision_score(y_test, lr_predict) \n",
        "\n",
        "fpr, tpr, _ = metrics.roc_curve(y_test, lr_probes)\n",
        "auc = round(metrics.roc_auc_score(y_test, lr_probes), 4)\n",
        "plt.plot(fpr,tpr,label=\"Logistic Regression, AUC=\"+str(auc))\n",
        "\n",
        "################################################################################\n",
        "\n",
        "svmachines = svm.SVC(C=1.0, kernel='linear', degree=3, gamma='auto', probability=True)\n",
        "svmachines.fit(X_train, y_train)\n",
        "svm_predict = svmachines.predict(X_test)\n",
        "svm_probes = svmachines.predict_proba(X_test)[:, 1]\n",
        "\n",
        "fpr, tpr, _ = metrics.roc_curve(y_test, svm_probes)\n",
        "auc = round(metrics.roc_auc_score(y_test, svm_probes), 4)\n",
        "plt.plot(fpr,tpr,label=\"SVM, AUC=\"+str(auc))\n",
        "\n",
        "svm_accuracy = accuracy_score(y_test, svm_predict)\n",
        "svm_recall = recall_score(y_test, svm_predict)\n",
        "svm_f1 = f1_score(y_test, svm_predict) \n",
        "svm_precision = precision_score(y_test, svm_predict) \n",
        "\n",
        "################################################################################\n",
        "\n",
        "\n",
        "dt = DecisionTreeClassifier()\n",
        "dt.fit(X_train, y_train)\n",
        "dt_predict  = dt.predict(X_test)\n",
        "dt_probes = dt.predict_proba(X_test)[:, 1]\n",
        "\n",
        "fpr, tpr, _ = metrics.roc_curve(y_test, dt_probes)\n",
        "auc = round(metrics.roc_auc_score(y_test, dt_probes), 4)\n",
        "plt.plot(fpr,tpr,label=\"Decision Trees, AUC=\"+str(auc))\n",
        "\n",
        "dt_accuracy = accuracy_score(y_test, dt_predict)\n",
        "dt_recall = recall_score(y_test, dt_predict)\n",
        "dt_f1 = f1_score(y_test, dt_predict) \n",
        "dt_precision = precision_score(y_test, dt_predict) \n",
        "\n",
        "################################################################################\n",
        "\n",
        "mnb = MultinomialNB()\n",
        "mnb.fit(X_train, y_train)\n",
        "mnb_predict = mnb.predict(X_test)\n",
        "mnb_probes = mnb.predict_proba(X_test)[:, 1]\n",
        "\n",
        "fpr, tpr, _ = metrics.roc_curve(y_test, mnb_probes)\n",
        "auc = round(metrics.roc_auc_score(y_test, mnb_probes), 4)\n",
        "plt.plot(fpr,tpr,label=\"Multinomial NB, AUC=\"+str(auc))\n",
        "\n",
        "mnb_accuracy = accuracy_score(y_test, mnb_predict)\n",
        "mnb_recall = recall_score(y_test, mnb_predict)\n",
        "mnb_f1 = f1_score(y_test, mnb_predict) \n",
        "mnb_precision = precision_score(y_test, mnb_predict) \n",
        "\n",
        "################################################################################\n",
        "\n",
        "adaboost = AdaBoostClassifier(n_estimators=50, learning_rate=1)\n",
        "adaboost.fit(X_train, y_train)\n",
        "adaboost_predict = adaboost.predict(X_test)\n",
        "adaboost_probes = adaboost.predict_proba(X_test)[:, 1]\n",
        "\n",
        "fpr, tpr, _ = metrics.roc_curve(y_test, adaboost_probes)\n",
        "auc = round(metrics.roc_auc_score(y_test, adaboost_probes), 4)\n",
        "plt.plot(fpr,tpr,label=\"AdaBoost, AUC=\"+str(auc))\n",
        "\n",
        "adaboost_accuracy = accuracy_score(y_test, adaboost_predict)\n",
        "adaboost_recall = recall_score(y_test, adaboost_predict)\n",
        "adaboost_f1 = f1_score(y_test, adaboost_predict) \n",
        "adaboost_precision = precision_score(y_test, adaboost_predict) \n",
        "\n",
        "plt.legend()"
      ],
      "metadata": {
        "id": "q5_R0N7G5Tz2",
        "colab": {
          "base_uri": "https://localhost:8080/",
          "height": 447
        },
        "outputId": "da34efc5-5a01-4c9b-a69f-7143a422723c"
      },
      "execution_count": 87,
      "outputs": [
        {
          "output_type": "execute_result",
          "data": {
            "text/plain": [
              "<matplotlib.legend.Legend at 0x7f1dce12d640>"
            ]
          },
          "metadata": {},
          "execution_count": 87
        },
        {
          "output_type": "display_data",
          "data": {
            "text/plain": [
              "<Figure size 640x480 with 1 Axes>"
            ],
            "image/png": "[encoded data removed]"
          },
          "metadata": {}
        }
      ]
    },
    {
      "cell_type": "code",
      "source": [
        "report(y_test, lr_predict, \"Logistic Regression\", lr_accuracy, lr_recall, lr_precision, lr_f1)\n",
        "print(\"#\"*55)\n",
        "report(y_test, svm_predict, \"Support Vector Machines\", svm_accuracy, svm_recall, svm_precision, svm_f1)\n",
        "print(\"#\"*55)\n",
        "report(y_test, dt_predict, \"Decision Trees\", dt_accuracy, dt_recall, dt_precision, dt_f1)\n",
        "print(\"#\"*55)\n",
        "report(y_test, mnb_predict, \"MultinomialNB\", mnb_accuracy, mnb_recall, mnb_precision, mnb_f1)\n",
        "print(\"#\"*55)\n",
        "report(y_test, adaboost_predict, \"AdaBoost\", adaboost_accuracy, adaboost_recall, adaboost_precision, adaboost_f1)"
      ],
      "metadata": {
        "id": "N2hTemhphQPt",
        "colab": {
          "base_uri": "https://localhost:8080/"
        },
        "outputId": "ba889bb3-ca3f-4bf1-c403-1de6566170bd"
      },
      "execution_count": 88,
      "outputs": [
        {
          "output_type": "stream",
          "name": "stdout",
          "text": [
            "Logistic Regression\n",
            "====================\n",
            "Accuracy:  0.810703228659885\n",
            "Recall:  0.8134991119005328\n",
            "Precision:  0.8077601410934744\n",
            "F1:  0.8106194690265486\n",
            "=======================================================\n",
            "              precision    recall  f1-score   support\n",
            "\n",
            "           0       0.81      0.81      0.81      1135\n",
            "           1       0.81      0.81      0.81      1126\n",
            "\n",
            "    accuracy                           0.81      2261\n",
            "   macro avg       0.81      0.81      0.81      2261\n",
            "weighted avg       0.81      0.81      0.81      2261\n",
            "\n",
            "#######################################################\n",
            "Support Vector Machines\n",
            "====================\n",
            "Accuracy:  0.8058381247235736\n",
            "Recall:  0.8072824156305506\n",
            "Precision:  0.8037135278514589\n",
            "F1:  0.8054940186087727\n",
            "=======================================================\n",
            "              precision    recall  f1-score   support\n",
            "\n",
            "           0       0.81      0.80      0.81      1135\n",
            "           1       0.80      0.81      0.81      1126\n",
            "\n",
            "    accuracy                           0.81      2261\n",
            "   macro avg       0.81      0.81      0.81      2261\n",
            "weighted avg       0.81      0.81      0.81      2261\n",
            "\n",
            "#######################################################\n",
            "Decision Trees\n",
            "====================\n",
            "Accuracy:  0.712516585581601\n",
            "Recall:  0.6731793960923623\n",
            "Precision:  0.7288461538461538\n",
            "F1:  0.6999076638965835\n",
            "=======================================================\n",
            "              precision    recall  f1-score   support\n",
            "\n",
            "           0       0.70      0.75      0.72      1135\n",
            "           1       0.73      0.67      0.70      1126\n",
            "\n",
            "    accuracy                           0.71      2261\n",
            "   macro avg       0.71      0.71      0.71      2261\n",
            "weighted avg       0.71      0.71      0.71      2261\n",
            "\n",
            "#######################################################\n",
            "MultinomialNB\n",
            "====================\n",
            "Accuracy:  0.7854931446262715\n",
            "Recall:  0.7744227353463587\n",
            "Precision:  0.7905711695376246\n",
            "F1:  0.7824136384028711\n",
            "=======================================================\n",
            "              precision    recall  f1-score   support\n",
            "\n",
            "           0       0.78      0.80      0.79      1135\n",
            "           1       0.79      0.77      0.78      1126\n",
            "\n",
            "    accuracy                           0.79      2261\n",
            "   macro avg       0.79      0.79      0.79      2261\n",
            "weighted avg       0.79      0.79      0.79      2261\n",
            "\n",
            "#######################################################\n",
            "AdaBoost\n",
            "====================\n",
            "Accuracy:  0.729765590446705\n",
            "Recall:  0.7912966252220248\n",
            "Precision:  0.7032359905288083\n",
            "F1:  0.7446719598829922\n",
            "=======================================================\n",
            "              precision    recall  f1-score   support\n",
            "\n",
            "           0       0.76      0.67      0.71      1135\n",
            "           1       0.70      0.79      0.74      1126\n",
            "\n",
            "    accuracy                           0.73      2261\n",
            "   macro avg       0.73      0.73      0.73      2261\n",
            "weighted avg       0.73      0.73      0.73      2261\n",
            "\n"
          ]
        }
      ]
    },
    {
      "cell_type": "code",
      "source": [
        "## Confusion Matrix: Logistic Regression\n",
        "cm(y_test, lr_predict)"
      ],
      "metadata": {
        "id": "EW8_d4aZhnw4",
        "colab": {
          "base_uri": "https://localhost:8080/",
          "height": 466
        },
        "outputId": "7097c047-f6c0-4bd6-b2db-30eec8bf708e"
      },
      "execution_count": 89,
      "outputs": [
        {
          "output_type": "display_data",
          "data": {
            "text/plain": [
              "<Figure size 640x480 with 2 Axes>"
            ],
            "image/png": "[encoded data removed]"
          },
          "metadata": {}
        },
        {
          "output_type": "display_data",
          "data": {
            "text/plain": [
              "<Figure size 200x200 with 0 Axes>"
            ]
          },
          "metadata": {}
        }
      ]
    },
    {
      "cell_type": "code",
      "source": [
        "## Confusion Matrix: SVM\n",
        "cm(y_test, svm_predict)"
      ],
      "metadata": {
        "id": "8sX9Z3hO9r3p",
        "colab": {
          "base_uri": "https://localhost:8080/",
          "height": 466
        },
        "outputId": "dbaa1358-f4f0-40bd-c811-350a970a2293"
      },
      "execution_count": 90,
      "outputs": [
        {
          "output_type": "display_data",
          "data": {
            "text/plain": [
              "<Figure size 640x480 with 2 Axes>"
            ],
            "image/png": "[encoded data removed]"
          },
          "metadata": {}
        },
        {
          "output_type": "display_data",
          "data": {
            "text/plain": [
              "<Figure size 200x200 with 0 Axes>"
            ]
          },
          "metadata": {}
        }
      ]
    },
    {
      "cell_type": "code",
      "source": [
        "## Confusion Matrix: Decision Trees\n",
        "cm(y_test, dt_predict)"
      ],
      "metadata": {
        "id": "ZztYI2uJjEyU",
        "colab": {
          "base_uri": "https://localhost:8080/",
          "height": 466
        },
        "outputId": "3492f2c4-143e-4c88-e4c8-89dc28374b00"
      },
      "execution_count": 91,
      "outputs": [
        {
          "output_type": "display_data",
          "data": {
            "text/plain": [
              "<Figure size 640x480 with 2 Axes>"
            ],
            "image/png": "[encoded data removed]"
          },
          "metadata": {}
        },
        {
          "output_type": "display_data",
          "data": {
            "text/plain": [
              "<Figure size 200x200 with 0 Axes>"
            ]
          },
          "metadata": {}
        }
      ]
    },
    {
      "cell_type": "code",
      "source": [
        "## Confusion Matrix: MultinomialNB\n",
        "cm(y_test, mnb_predict)"
      ],
      "metadata": {
        "id": "oEZ32SyNjR1M",
        "colab": {
          "base_uri": "https://localhost:8080/",
          "height": 470
        },
        "outputId": "235051ad-5d7a-4de4-8b1d-87f9ba092b71"
      },
      "execution_count": 92,
      "outputs": [
        {
          "output_type": "display_data",
          "data": {
            "text/plain": [
              "<Figure size 640x480 with 2 Axes>"
            ],
            "image/png": "[encoded data removed]"
          },
          "metadata": {}
        },
        {
          "output_type": "display_data",
          "data": {
            "text/plain": [
              "<Figure size 200x200 with 0 Axes>"
            ]
          },
          "metadata": {}
        }
      ]
    }
  ],
  "metadata": {
    "kernelspec": {
      "display_name": "Python 3.8.10 64-bit",
      "language": "python",
      "name": "python3"
    },
    "language_info": {
      "codemirror_mode": {
        "name": "ipython",
        "version": 3
      },
      "file_extension": ".py",
      "mimetype": "text/x-python",
      "name": "python",
      "nbconvert_exporter": "python",
      "pygments_lexer": "ipython3",
      "version": "3.8.10"
    },
    "orig_nbformat": 4,
    "vscode": {
      "interpreter": {
        "hash": "916dbcbb3f70747c44a77c7bcd40155683ae19c65e1c03b4aa3499c5328201f1"
      }
    },
    "colab": {
      "provenance": []
    },
    "accelerator": "GPU",
    "gpuClass": "standard"
  },
  "nbformat": 4,
  "nbformat_minor": 0
}
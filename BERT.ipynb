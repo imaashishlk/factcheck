{
  "nbformat": 4,
  "nbformat_minor": 0,
  "metadata": {
    "colab": {
      "provenance": []
    },
    "kernelspec": {
      "name": "python3",
      "display_name": "Python 3"
    },
    "language_info": {
      "name": "python"
    },
    "accelerator": "GPU",
    "gpuClass": "standard"
  },
  "cells": [
    {
      "cell_type": "code",
      "execution_count": 1,
      "metadata": {
        "colab": {
          "base_uri": "https://localhost:8080/"
        },
        "id": "EBxS83g2W1zM",
        "outputId": "7794c007-6a84-4968-e414-9aa341aa7858"
      },
      "outputs": [
        {
          "output_type": "stream",
          "name": "stdout",
          "text": [
            "Looking in indexes: https://pypi.org/simple, https://us-python.pkg.dev/colab-wheels/public/simple/\n",
            "Requirement already satisfied: tensorflow_hub in /usr/local/lib/python3.9/dist-packages (0.13.0)\n",
            "Requirement already satisfied: numpy>=1.12.0 in /usr/local/lib/python3.9/dist-packages (from tensorflow_hub) (1.22.4)\n",
            "Requirement already satisfied: protobuf>=3.19.6 in /usr/local/lib/python3.9/dist-packages (from tensorflow_hub) (3.20.3)\n",
            "Looking in indexes: https://pypi.org/simple, https://us-python.pkg.dev/colab-wheels/public/simple/\n",
            "Collecting tensorflow_text\n",
            "  Downloading tensorflow_text-2.12.1-cp39-cp39-manylinux_2_17_x86_64.manylinux2014_x86_64.whl (6.0 MB)\n",
            "\u001b[2K     \u001b[90m━━━━━━━━━━━━━━━━━━━━━━━━━━━━━━━━━━━━━━━━\u001b[0m \u001b[32m6.0/6.0 MB\u001b[0m \u001b[31m24.0 MB/s\u001b[0m eta \u001b[36m0:00:00\u001b[0m\n",
            "\u001b[?25hRequirement already satisfied: tensorflow-hub>=0.8.0 in /usr/local/lib/python3.9/dist-packages (from tensorflow_text) (0.13.0)\n",
            "Requirement already satisfied: tensorflow<2.13,>=2.12.0 in /usr/local/lib/python3.9/dist-packages (from tensorflow_text) (2.12.0)\n",
            "Requirement already satisfied: astunparse>=1.6.0 in /usr/local/lib/python3.9/dist-packages (from tensorflow<2.13,>=2.12.0->tensorflow_text) (1.6.3)\n",
            "Requirement already satisfied: gast<=0.4.0,>=0.2.1 in /usr/local/lib/python3.9/dist-packages (from tensorflow<2.13,>=2.12.0->tensorflow_text) (0.4.0)\n",
            "Requirement already satisfied: keras<2.13,>=2.12.0 in /usr/local/lib/python3.9/dist-packages (from tensorflow<2.13,>=2.12.0->tensorflow_text) (2.12.0)\n",
            "Requirement already satisfied: flatbuffers>=2.0 in /usr/local/lib/python3.9/dist-packages (from tensorflow<2.13,>=2.12.0->tensorflow_text) (23.3.3)\n",
            "Requirement already satisfied: typing-extensions>=3.6.6 in /usr/local/lib/python3.9/dist-packages (from tensorflow<2.13,>=2.12.0->tensorflow_text) (4.5.0)\n",
            "Requirement already satisfied: h5py>=2.9.0 in /usr/local/lib/python3.9/dist-packages (from tensorflow<2.13,>=2.12.0->tensorflow_text) (3.8.0)\n",
            "Requirement already satisfied: protobuf!=4.21.0,!=4.21.1,!=4.21.2,!=4.21.3,!=4.21.4,!=4.21.5,<5.0.0dev,>=3.20.3 in /usr/local/lib/python3.9/dist-packages (from tensorflow<2.13,>=2.12.0->tensorflow_text) (3.20.3)\n",
            "Requirement already satisfied: setuptools in /usr/local/lib/python3.9/dist-packages (from tensorflow<2.13,>=2.12.0->tensorflow_text) (67.7.1)\n",
            "Requirement already satisfied: numpy<1.24,>=1.22 in /usr/local/lib/python3.9/dist-packages (from tensorflow<2.13,>=2.12.0->tensorflow_text) (1.22.4)\n",
            "Requirement already satisfied: termcolor>=1.1.0 in /usr/local/lib/python3.9/dist-packages (from tensorflow<2.13,>=2.12.0->tensorflow_text) (2.2.0)\n",
            "Requirement already satisfied: packaging in /usr/local/lib/python3.9/dist-packages (from tensorflow<2.13,>=2.12.0->tensorflow_text) (23.1)\n",
            "Requirement already satisfied: opt-einsum>=2.3.2 in /usr/local/lib/python3.9/dist-packages (from tensorflow<2.13,>=2.12.0->tensorflow_text) (3.3.0)\n",
            "Requirement already satisfied: grpcio<2.0,>=1.24.3 in /usr/local/lib/python3.9/dist-packages (from tensorflow<2.13,>=2.12.0->tensorflow_text) (1.53.0)\n",
            "Requirement already satisfied: six>=1.12.0 in /usr/local/lib/python3.9/dist-packages (from tensorflow<2.13,>=2.12.0->tensorflow_text) (1.16.0)\n",
            "Requirement already satisfied: libclang>=13.0.0 in /usr/local/lib/python3.9/dist-packages (from tensorflow<2.13,>=2.12.0->tensorflow_text) (16.0.0)\n",
            "Requirement already satisfied: wrapt<1.15,>=1.11.0 in /usr/local/lib/python3.9/dist-packages (from tensorflow<2.13,>=2.12.0->tensorflow_text) (1.14.1)\n",
            "Requirement already satisfied: absl-py>=1.0.0 in /usr/local/lib/python3.9/dist-packages (from tensorflow<2.13,>=2.12.0->tensorflow_text) (1.4.0)\n",
            "Requirement already satisfied: jax>=0.3.15 in /usr/local/lib/python3.9/dist-packages (from tensorflow<2.13,>=2.12.0->tensorflow_text) (0.4.8)\n",
            "Requirement already satisfied: google-pasta>=0.1.1 in /usr/local/lib/python3.9/dist-packages (from tensorflow<2.13,>=2.12.0->tensorflow_text) (0.2.0)\n",
            "Requirement already satisfied: tensorboard<2.13,>=2.12 in /usr/local/lib/python3.9/dist-packages (from tensorflow<2.13,>=2.12.0->tensorflow_text) (2.12.2)\n",
            "Requirement already satisfied: tensorflow-io-gcs-filesystem>=0.23.1 in /usr/local/lib/python3.9/dist-packages (from tensorflow<2.13,>=2.12.0->tensorflow_text) (0.32.0)\n",
            "Requirement already satisfied: tensorflow-estimator<2.13,>=2.12.0 in /usr/local/lib/python3.9/dist-packages (from tensorflow<2.13,>=2.12.0->tensorflow_text) (2.12.0)\n",
            "Requirement already satisfied: wheel<1.0,>=0.23.0 in /usr/local/lib/python3.9/dist-packages (from astunparse>=1.6.0->tensorflow<2.13,>=2.12.0->tensorflow_text) (0.40.0)\n",
            "Requirement already satisfied: scipy>=1.7 in /usr/local/lib/python3.9/dist-packages (from jax>=0.3.15->tensorflow<2.13,>=2.12.0->tensorflow_text) (1.10.1)\n",
            "Requirement already satisfied: ml-dtypes>=0.0.3 in /usr/local/lib/python3.9/dist-packages (from jax>=0.3.15->tensorflow<2.13,>=2.12.0->tensorflow_text) (0.1.0)\n",
            "Requirement already satisfied: tensorboard-plugin-wit>=1.6.0 in /usr/local/lib/python3.9/dist-packages (from tensorboard<2.13,>=2.12->tensorflow<2.13,>=2.12.0->tensorflow_text) (1.8.1)\n",
            "Requirement already satisfied: google-auth-oauthlib<1.1,>=0.5 in /usr/local/lib/python3.9/dist-packages (from tensorboard<2.13,>=2.12->tensorflow<2.13,>=2.12.0->tensorflow_text) (1.0.0)\n",
            "Requirement already satisfied: markdown>=2.6.8 in /usr/local/lib/python3.9/dist-packages (from tensorboard<2.13,>=2.12->tensorflow<2.13,>=2.12.0->tensorflow_text) (3.4.3)\n",
            "Requirement already satisfied: requests<3,>=2.21.0 in /usr/local/lib/python3.9/dist-packages (from tensorboard<2.13,>=2.12->tensorflow<2.13,>=2.12.0->tensorflow_text) (2.27.1)\n",
            "Requirement already satisfied: google-auth<3,>=1.6.3 in /usr/local/lib/python3.9/dist-packages (from tensorboard<2.13,>=2.12->tensorflow<2.13,>=2.12.0->tensorflow_text) (2.17.3)\n",
            "Requirement already satisfied: tensorboard-data-server<0.8.0,>=0.7.0 in /usr/local/lib/python3.9/dist-packages (from tensorboard<2.13,>=2.12->tensorflow<2.13,>=2.12.0->tensorflow_text) (0.7.0)\n",
            "Requirement already satisfied: werkzeug>=1.0.1 in /usr/local/lib/python3.9/dist-packages (from tensorboard<2.13,>=2.12->tensorflow<2.13,>=2.12.0->tensorflow_text) (2.2.3)\n",
            "Requirement already satisfied: pyasn1-modules>=0.2.1 in /usr/local/lib/python3.9/dist-packages (from google-auth<3,>=1.6.3->tensorboard<2.13,>=2.12->tensorflow<2.13,>=2.12.0->tensorflow_text) (0.2.8)\n",
            "Requirement already satisfied: cachetools<6.0,>=2.0.0 in /usr/local/lib/python3.9/dist-packages (from google-auth<3,>=1.6.3->tensorboard<2.13,>=2.12->tensorflow<2.13,>=2.12.0->tensorflow_text) (5.3.0)\n",
            "Requirement already satisfied: rsa<5,>=3.1.4 in /usr/local/lib/python3.9/dist-packages (from google-auth<3,>=1.6.3->tensorboard<2.13,>=2.12->tensorflow<2.13,>=2.12.0->tensorflow_text) (4.9)\n",
            "Requirement already satisfied: requests-oauthlib>=0.7.0 in /usr/local/lib/python3.9/dist-packages (from google-auth-oauthlib<1.1,>=0.5->tensorboard<2.13,>=2.12->tensorflow<2.13,>=2.12.0->tensorflow_text) (1.3.1)\n",
            "Requirement already satisfied: importlib-metadata>=4.4 in /usr/local/lib/python3.9/dist-packages (from markdown>=2.6.8->tensorboard<2.13,>=2.12->tensorflow<2.13,>=2.12.0->tensorflow_text) (6.4.1)\n",
            "Requirement already satisfied: certifi>=2017.4.17 in /usr/local/lib/python3.9/dist-packages (from requests<3,>=2.21.0->tensorboard<2.13,>=2.12->tensorflow<2.13,>=2.12.0->tensorflow_text) (2022.12.7)\n",
            "Requirement already satisfied: urllib3<1.27,>=1.21.1 in /usr/local/lib/python3.9/dist-packages (from requests<3,>=2.21.0->tensorboard<2.13,>=2.12->tensorflow<2.13,>=2.12.0->tensorflow_text) (1.26.15)\n",
            "Requirement already satisfied: charset-normalizer~=2.0.0 in /usr/local/lib/python3.9/dist-packages (from requests<3,>=2.21.0->tensorboard<2.13,>=2.12->tensorflow<2.13,>=2.12.0->tensorflow_text) (2.0.12)\n",
            "Requirement already satisfied: idna<4,>=2.5 in /usr/local/lib/python3.9/dist-packages (from requests<3,>=2.21.0->tensorboard<2.13,>=2.12->tensorflow<2.13,>=2.12.0->tensorflow_text) (3.4)\n",
            "Requirement already satisfied: MarkupSafe>=2.1.1 in /usr/local/lib/python3.9/dist-packages (from werkzeug>=1.0.1->tensorboard<2.13,>=2.12->tensorflow<2.13,>=2.12.0->tensorflow_text) (2.1.2)\n",
            "Requirement already satisfied: zipp>=0.5 in /usr/local/lib/python3.9/dist-packages (from importlib-metadata>=4.4->markdown>=2.6.8->tensorboard<2.13,>=2.12->tensorflow<2.13,>=2.12.0->tensorflow_text) (3.15.0)\n",
            "Requirement already satisfied: pyasn1<0.5.0,>=0.4.6 in /usr/local/lib/python3.9/dist-packages (from pyasn1-modules>=0.2.1->google-auth<3,>=1.6.3->tensorboard<2.13,>=2.12->tensorflow<2.13,>=2.12.0->tensorflow_text) (0.4.8)\n",
            "Requirement already satisfied: oauthlib>=3.0.0 in /usr/local/lib/python3.9/dist-packages (from requests-oauthlib>=0.7.0->google-auth-oauthlib<1.1,>=0.5->tensorboard<2.13,>=2.12->tensorflow<2.13,>=2.12.0->tensorflow_text) (3.2.2)\n",
            "Installing collected packages: tensorflow_text\n",
            "Successfully installed tensorflow_text-2.12.1\n"
          ]
        }
      ],
      "source": [
        "!pip install tensorflow_hub\n",
        "!pip install tensorflow_text"
      ]
    },
    {
      "cell_type": "code",
      "source": [
        "import tensorflow_hub as hub\n",
        "import tensorflow_text as text\n",
        "import pandas as pd"
      ],
      "metadata": {
        "id": "lgSKlMo5W3d7"
      },
      "execution_count": 2,
      "outputs": []
    },
    {
      "cell_type": "code",
      "source": [
        "from google.colab import drive\n",
        "drive.mount('/content/drive')\n"
      ],
      "metadata": {
        "colab": {
          "base_uri": "https://localhost:8080/"
        },
        "id": "fYy9VyQsXC94",
        "outputId": "4543809b-56c8-4c86-86cd-d88178028e29"
      },
      "execution_count": 3,
      "outputs": [
        {
          "output_type": "stream",
          "name": "stdout",
          "text": [
            "Mounted at /content/drive\n"
          ]
        }
      ]
    },
    {
      "cell_type": "code",
      "source": [
        "df = pd.read_csv('drive/MyDrive/DM23/data/merged_cleaned.csv')"
      ],
      "metadata": {
        "id": "J71fYY1MXGPJ"
      },
      "execution_count": 5,
      "outputs": []
    },
    {
      "cell_type": "code",
      "source": [
        "# Use the bert preprocesser and bert encoder from tensorflow_hub \n",
        "bert_preprocess = hub.KerasLayer(\"https://tfhub.dev/tensorflow/bert_en_uncased_preprocess/3\") \n",
        "bert_encoder = hub.KerasLayer('https://tfhub.dev/tensorflow/bert_en_uncased_L-12_H-768_A-12/4')"
      ],
      "metadata": {
        "id": "QzZp8v36W8A1"
      },
      "execution_count": 6,
      "outputs": []
    },
    {
      "cell_type": "code",
      "source": [
        "df.head()"
      ],
      "metadata": {
        "colab": {
          "base_uri": "https://localhost:8080/",
          "height": 206
        },
        "id": "igggb69dXRfA",
        "outputId": "fe708011-6f5a-40a8-bea1-9f4e840fc5a1"
      },
      "execution_count": 7,
      "outputs": [
        {
          "output_type": "execute_result",
          "data": {
            "text/plain": [
              "   Unnamed: 0 date_commenced  \\\n",
              "0           0     2004-09-30   \n",
              "1           1     2008-09-26   \n",
              "2           2     1984-10-07   \n",
              "3           3     1992-10-11   \n",
              "4           4     1976-10-06   \n",
              "\n",
              "                                               claim  verdict  \n",
              "0                    respond george w bush president        0  \n",
              "1  number three got make sure none money going pa...        0  \n",
              "2  figure show million people poverty line year a...        1  \n",
              "3  never would got gone nuclear freeze crowd neve...        0  \n",
              "4  monday week signed tax bill included amendment...        1  "
            ],
            "text/html": [
              "\n",
              "  <div id=\"df-3aa24459-38fb-4331-a0ec-b61846f92060\">\n",
              "    <div class=\"colab-df-container\">\n",
              "      <div>\n",
              "<style scoped>\n",
              "    .dataframe tbody tr th:only-of-type {\n",
              "        vertical-align: middle;\n",
              "    }\n",
              "\n",
              "    .dataframe tbody tr th {\n",
              "        vertical-align: top;\n",
              "    }\n",
              "\n",
              "    .dataframe thead th {\n",
              "        text-align: right;\n",
              "    }\n",
              "</style>\n",
              "<table border=\"1\" class=\"dataframe\">\n",
              "  <thead>\n",
              "    <tr style=\"text-align: right;\">\n",
              "      <th></th>\n",
              "      <th>Unnamed: 0</th>\n",
              "      <th>date_commenced</th>\n",
              "      <th>claim</th>\n",
              "      <th>verdict</th>\n",
              "    </tr>\n",
              "  </thead>\n",
              "  <tbody>\n",
              "    <tr>\n",
              "      <th>0</th>\n",
              "      <td>0</td>\n",
              "      <td>2004-09-30</td>\n",
              "      <td>respond george w bush president</td>\n",
              "      <td>0</td>\n",
              "    </tr>\n",
              "    <tr>\n",
              "      <th>1</th>\n",
              "      <td>1</td>\n",
              "      <td>2008-09-26</td>\n",
              "      <td>number three got make sure none money going pa...</td>\n",
              "      <td>0</td>\n",
              "    </tr>\n",
              "    <tr>\n",
              "      <th>2</th>\n",
              "      <td>2</td>\n",
              "      <td>1984-10-07</td>\n",
              "      <td>figure show million people poverty line year a...</td>\n",
              "      <td>1</td>\n",
              "    </tr>\n",
              "    <tr>\n",
              "      <th>3</th>\n",
              "      <td>3</td>\n",
              "      <td>1992-10-11</td>\n",
              "      <td>never would got gone nuclear freeze crowd neve...</td>\n",
              "      <td>0</td>\n",
              "    </tr>\n",
              "    <tr>\n",
              "      <th>4</th>\n",
              "      <td>4</td>\n",
              "      <td>1976-10-06</td>\n",
              "      <td>monday week signed tax bill included amendment...</td>\n",
              "      <td>1</td>\n",
              "    </tr>\n",
              "  </tbody>\n",
              "</table>\n",
              "</div>\n",
              "      <button class=\"colab-df-convert\" onclick=\"convertToInteractive('df-3aa24459-38fb-4331-a0ec-b61846f92060')\"\n",
              "              title=\"Convert this dataframe to an interactive table.\"\n",
              "              style=\"display:none;\">\n",
              "        \n",
              "  <svg xmlns=\"http://www.w3.org/2000/svg\" height=\"24px\"viewBox=\"0 0 24 24\"\n",
              "       width=\"24px\">\n",
              "    <path d=\"M0 0h24v24H0V0z\" fill=\"none\"/>\n",
              "    <path d=\"M18.56 5.44l.94 2.06.94-2.06 2.06-.94-2.06-.94-.94-2.06-.94 2.06-2.06.94zm-11 1L8.5 8.5l.94-2.06 2.06-.94-2.06-.94L8.5 2.5l-.94 2.06-2.06.94zm10 10l.94 2.06.94-2.06 2.06-.94-2.06-.94-.94-2.06-.94 2.06-2.06.94z\"/><path d=\"M17.41 7.96l-1.37-1.37c-.4-.4-.92-.59-1.43-.59-.52 0-1.04.2-1.43.59L10.3 9.45l-7.72 7.72c-.78.78-.78 2.05 0 2.83L4 21.41c.39.39.9.59 1.41.59.51 0 1.02-.2 1.41-.59l7.78-7.78 2.81-2.81c.8-.78.8-2.07 0-2.86zM5.41 20L4 18.59l7.72-7.72 1.47 1.35L5.41 20z\"/>\n",
              "  </svg>\n",
              "      </button>\n",
              "      \n",
              "  <style>\n",
              "    .colab-df-container {\n",
              "      display:flex;\n",
              "      flex-wrap:wrap;\n",
              "      gap: 12px;\n",
              "    }\n",
              "\n",
              "    .colab-df-convert {\n",
              "      background-color: #E8F0FE;\n",
              "      border: none;\n",
              "      border-radius: 50%;\n",
              "      cursor: pointer;\n",
              "      display: none;\n",
              "      fill: #1967D2;\n",
              "      height: 32px;\n",
              "      padding: 0 0 0 0;\n",
              "      width: 32px;\n",
              "    }\n",
              "\n",
              "    .colab-df-convert:hover {\n",
              "      background-color: #E2EBFA;\n",
              "      box-shadow: 0px 1px 2px rgba(60, 64, 67, 0.3), 0px 1px 3px 1px rgba(60, 64, 67, 0.15);\n",
              "      fill: #174EA6;\n",
              "    }\n",
              "\n",
              "    [theme=dark] .colab-df-convert {\n",
              "      background-color: #3B4455;\n",
              "      fill: #D2E3FC;\n",
              "    }\n",
              "\n",
              "    [theme=dark] .colab-df-convert:hover {\n",
              "      background-color: #434B5C;\n",
              "      box-shadow: 0px 1px 3px 1px rgba(0, 0, 0, 0.15);\n",
              "      filter: drop-shadow(0px 1px 2px rgba(0, 0, 0, 0.3));\n",
              "      fill: #FFFFFF;\n",
              "    }\n",
              "  </style>\n",
              "\n",
              "      <script>\n",
              "        const buttonEl =\n",
              "          document.querySelector('#df-3aa24459-38fb-4331-a0ec-b61846f92060 button.colab-df-convert');\n",
              "        buttonEl.style.display =\n",
              "          google.colab.kernel.accessAllowed ? 'block' : 'none';\n",
              "\n",
              "        async function convertToInteractive(key) {\n",
              "          const element = document.querySelector('#df-3aa24459-38fb-4331-a0ec-b61846f92060');\n",
              "          const dataTable =\n",
              "            await google.colab.kernel.invokeFunction('convertToInteractive',\n",
              "                                                     [key], {});\n",
              "          if (!dataTable) return;\n",
              "\n",
              "          const docLinkHtml = 'Like what you see? Visit the ' +\n",
              "            '<a target=\"_blank\" href=https://colab.research.google.com/notebooks/data_table.ipynb>data table notebook</a>'\n",
              "            + ' to learn more about interactive tables.';\n",
              "          element.innerHTML = '';\n",
              "          dataTable['output_type'] = 'display_data';\n",
              "          await google.colab.output.renderOutput(dataTable, element);\n",
              "          const docLink = document.createElement('div');\n",
              "          docLink.innerHTML = docLinkHtml;\n",
              "          element.appendChild(docLink);\n",
              "        }\n",
              "      </script>\n",
              "    </div>\n",
              "  </div>\n",
              "  "
            ]
          },
          "metadata": {},
          "execution_count": 7
        }
      ]
    },
    {
      "cell_type": "code",
      "source": [
        "## Preprocessing Sample\n",
        "preprocessing_sample = bert_preprocess(df.sample(1)['claim'])\n",
        "## Preprocessing Output Keys\n",
        "preprocessing_sample.keys()"
      ],
      "metadata": {
        "id": "zF7spO0gXp-7",
        "colab": {
          "base_uri": "https://localhost:8080/"
        },
        "outputId": "a8cecc16-e35b-4af1-d096-b024e16c65e1"
      },
      "execution_count": 8,
      "outputs": [
        {
          "output_type": "execute_result",
          "data": {
            "text/plain": [
              "dict_keys(['input_type_ids', 'input_word_ids', 'input_mask'])"
            ]
          },
          "metadata": {},
          "execution_count": 8
        }
      ]
    },
    {
      "cell_type": "code",
      "source": [
        "## Tensor Shape of Preprocessing sample\n",
        "preprocessing_sample['input_word_ids'].shape"
      ],
      "metadata": {
        "colab": {
          "base_uri": "https://localhost:8080/"
        },
        "id": "GjL1GGgcXuQn",
        "outputId": "1c4cb55c-3f42-4d45-8ff3-aea5904206cd"
      },
      "execution_count": 9,
      "outputs": [
        {
          "output_type": "execute_result",
          "data": {
            "text/plain": [
              "TensorShape([1, 128])"
            ]
          },
          "metadata": {},
          "execution_count": 9
        }
      ]
    },
    {
      "cell_type": "code",
      "source": [
        "## Bert Encoding\n",
        "pp_encoded = bert_encoder(preprocessing_sample)\n",
        "## Encoding Output Keys\n",
        "pp_encoded.keys()"
      ],
      "metadata": {
        "id": "7kkatEU7XwOy",
        "colab": {
          "base_uri": "https://localhost:8080/"
        },
        "outputId": "2aeb1063-d8fd-4305-d6e8-92128afd7f2b"
      },
      "execution_count": 10,
      "outputs": [
        {
          "output_type": "execute_result",
          "data": {
            "text/plain": [
              "dict_keys(['sequence_output', 'pooled_output', 'default', 'encoder_outputs'])"
            ]
          },
          "metadata": {},
          "execution_count": 10
        }
      ]
    },
    {
      "cell_type": "code",
      "source": [
        "## Pooled Output Shape\n",
        "pp_encoded['pooled_output'].shape"
      ],
      "metadata": {
        "colab": {
          "base_uri": "https://localhost:8080/"
        },
        "id": "GngyrDEdX1oE",
        "outputId": "8587f16f-43f8-4d6e-992b-bebbdd13ce84"
      },
      "execution_count": 11,
      "outputs": [
        {
          "output_type": "execute_result",
          "data": {
            "text/plain": [
              "TensorShape([1, 768])"
            ]
          },
          "metadata": {},
          "execution_count": 11
        }
      ]
    },
    {
      "cell_type": "code",
      "source": [
        "pp_encoded['pooled_output']"
      ],
      "metadata": {
        "colab": {
          "base_uri": "https://localhost:8080/"
        },
        "id": "vyMMCqirX3hC",
        "outputId": "aa6a9374-2f00-4827-c62f-590fc18a7136"
      },
      "execution_count": 12,
      "outputs": [
        {
          "output_type": "execute_result",
          "data": {
            "text/plain": [
              "<tf.Tensor: shape=(1, 768), dtype=float32, numpy=\n",
              "array([[-0.8624921 , -0.55105335, -0.84232444,  0.75995755,  0.4867842 ,\n",
              "        -0.3423547 ,  0.8113263 ,  0.5145585 , -0.4575039 , -0.99998903,\n",
              "        -0.23455285,  0.9445526 ,  0.9837092 ,  0.34093702,  0.8839548 ,\n",
              "        -0.7492308 , -0.54039115, -0.6247046 ,  0.46375966, -0.57494557,\n",
              "         0.67657626,  0.99994177,  0.27193138,  0.34462816,  0.45079935,\n",
              "         0.9701293 , -0.7145461 ,  0.87918067,  0.9483666 ,  0.7908415 ,\n",
              "        -0.6604274 ,  0.48807633, -0.98971385, -0.35811418, -0.856085  ,\n",
              "        -0.9907425 ,  0.47141388, -0.6288464 , -0.16069503, -0.1602838 ,\n",
              "        -0.82625544,  0.4493205 ,  0.9999301 ,  0.11653168,  0.31220993,\n",
              "        -0.40924168, -1.        ,  0.31194267, -0.8294849 ,  0.7362258 ,\n",
              "         0.67633694,  0.588678  ,  0.42349398,  0.58475083,  0.6095776 ,\n",
              "        -0.1429097 ,  0.14552347,  0.30765265, -0.4705401 , -0.5768981 ,\n",
              "        -0.62589604,  0.58253986, -0.80961704, -0.8860953 ,  0.6918855 ,\n",
              "         0.403542  , -0.40530172, -0.46530828, -0.26118714,  0.00953524,\n",
              "         0.813186  ,  0.2976587 , -0.04103235, -0.76427853,  0.32768854,\n",
              "         0.39225763, -0.49558866,  1.        , -0.5229681 , -0.97961   ,\n",
              "         0.6155476 ,  0.47250864,  0.3895741 , -0.11296138, -0.03944654,\n",
              "        -1.        ,  0.51497   , -0.2041119 , -0.99006623,  0.31526136,\n",
              "         0.6098957 , -0.241669  ,  0.20353419,  0.41811687, -0.34586802,\n",
              "        -0.28784654, -0.3176408 , -0.7285565 , -0.3941906 , -0.4734413 ,\n",
              "         0.2604828 , -0.28740898, -0.4393365 , -0.43101922,  0.35949314,\n",
              "        -0.638355  , -0.5249773 ,  0.19214481, -0.00804241,  0.7150477 ,\n",
              "         0.3362968 , -0.38786328,  0.4779662 , -0.9497691 ,  0.73875153,\n",
              "        -0.40826112, -0.98740333, -0.5101581 , -0.99083674,  0.77665335,\n",
              "        -0.37933904, -0.35943383,  0.92758495, -0.05589282,  0.44175506,\n",
              "        -0.17532967, -0.61710757, -1.        , -0.6482426 , -0.46259493,\n",
              "         0.04617766, -0.4692958 , -0.98473555, -0.9548566 ,  0.70258814,\n",
              "         0.92679346,  0.28776717,  0.99979407, -0.38798192,  0.9453346 ,\n",
              "        -0.1297425 , -0.30891463,  0.15727873, -0.540994  ,  0.5965887 ,\n",
              "         0.24588174, -0.67661285,  0.33779564, -0.4550884 ,  0.28326777,\n",
              "        -0.5700796 , -0.33102888, -0.5245505 , -0.9063918 , -0.50274664,\n",
              "         0.90961736, -0.2565409 , -0.7938752 ,  0.20539862, -0.29511768,\n",
              "        -0.47926494,  0.8130097 ,  0.46882486,  0.4957481 , -0.25344276,\n",
              "         0.4900362 ,  0.23634802,  0.5863311 , -0.856872  , -0.00874877,\n",
              "         0.5065857 , -0.38472578, -0.6405139 , -0.9795186 , -0.5087788 ,\n",
              "         0.44066167,  0.9796487 ,  0.83195114,  0.4342121 ,  0.5414898 ,\n",
              "        -0.30173174,  0.63419336, -0.9744857 ,  0.9789943 , -0.30597737,\n",
              "         0.31037906, -0.20766553,  0.2918829 , -0.7991273 , -0.05684157,\n",
              "         0.88990307, -0.54920334, -0.7922231 , -0.19291486, -0.44393864,\n",
              "        -0.5515712 , -0.66438717,  0.6435985 , -0.29393548, -0.40395412,\n",
              "        -0.1292066 ,  0.8369114 ,  0.9729461 ,  0.71366173, -0.04771784,\n",
              "         0.65466577, -0.8427558 , -0.44757673,  0.31924188,  0.4225298 ,\n",
              "         0.1907434 ,  0.99280703, -0.40872616, -0.15481694, -0.84147525,\n",
              "        -0.9857753 ,  0.15797254, -0.85553545, -0.32871842, -0.6690257 ,\n",
              "         0.6222348 ,  0.00123336,  0.2091683 ,  0.4293953 , -0.94864136,\n",
              "        -0.76204896,  0.44999504, -0.4654261 ,  0.56248   , -0.30846512,\n",
              "         0.6510307 ,  0.8608928 , -0.67087114,  0.73520494,  0.93516606,\n",
              "        -0.5728057 , -0.73311865,  0.74198836, -0.41325203,  0.8992415 ,\n",
              "        -0.717052  ,  0.9939146 ,  0.795732  ,  0.6872663 , -0.9334673 ,\n",
              "        -0.45186955, -0.83991176, -0.4825523 , -0.27517316, -0.042555  ,\n",
              "         0.75681454,  0.36580914,  0.35461697,  0.6162445 , -0.67314297,\n",
              "         0.9971355 , -0.6006306 , -0.9641123 , -0.58042634, -0.34426016,\n",
              "        -0.9908723 ,  0.7045592 ,  0.30951303, -0.02419902, -0.51824147,\n",
              "        -0.53509176, -0.9441028 ,  0.8986407 ,  0.27983287,  0.9712435 ,\n",
              "        -0.37847185, -0.9284461 , -0.71939415, -0.9157118 ,  0.10398933,\n",
              "        -0.41212422, -0.11026347,  0.09663372, -0.90133375,  0.56553316,\n",
              "         0.44764236,  0.43586585, -0.40431902,  0.9987511 ,  1.        ,\n",
              "         0.9696597 ,  0.7898379 ,  0.8526337 , -0.9994246 , -0.57086426,\n",
              "         0.99999356, -0.9880495 , -1.        , -0.86744624, -0.75495964,\n",
              "         0.47496644, -1.        , -0.25677878, -0.12472504, -0.85071796,\n",
              "         0.52439183,  0.9788445 ,  0.98659503, -1.        ,  0.84277475,\n",
              "         0.91605747, -0.5438028 ,  0.89700156, -0.40483016,  0.9703623 ,\n",
              "         0.3232013 ,  0.32426187, -0.38141134,  0.48769975, -0.74083793,\n",
              "        -0.8925705 , -0.33405313, -0.3159286 ,  0.9941597 ,  0.34337685,\n",
              "        -0.74025804, -0.9059163 ,  0.42297572, -0.28967687, -0.03792784,\n",
              "        -0.9398385 , -0.25874093,  0.5926368 ,  0.6635454 ,  0.2466261 ,\n",
              "         0.34361762, -0.6385213 ,  0.37396365, -0.3307757 ,  0.3148106 ,\n",
              "         0.5309348 , -0.90628606, -0.5667432 , -0.3330583 , -0.14472261,\n",
              "        -0.38184032, -0.94933146,  0.9536222 , -0.5067106 ,  0.7889061 ,\n",
              "         1.        ,  0.5364508 , -0.810763  ,  0.53729737,  0.31518608,\n",
              "        -0.2589047 ,  1.        ,  0.616124  , -0.9830575 , -0.43426365,\n",
              "         0.6266373 , -0.5998348 , -0.57156354,  0.9995106 , -0.24681938,\n",
              "        -0.5647326 , -0.14045513,  0.9869383 , -0.9922846 ,  0.97599715,\n",
              "        -0.8689024 , -0.96119624,  0.96120715,  0.888552  , -0.51917493,\n",
              "        -0.72378916,  0.34264544, -0.4429234 ,  0.40890375, -0.9093719 ,\n",
              "         0.7693929 ,  0.5447539 , -0.18323372,  0.854401  , -0.82693344,\n",
              "        -0.34153286,  0.41425124, -0.57762194, -0.10549089,  0.7368175 ,\n",
              "         0.6205817 , -0.37454757,  0.18921351, -0.4197326 , -0.29284358,\n",
              "        -0.95197046,  0.18041301,  1.        , -0.47261333,  0.40422013,\n",
              "        -0.533448  ,  0.00101125, -0.00413596,  0.47536018,  0.57382804,\n",
              "        -0.4552741 , -0.73885936,  0.24869592, -0.86741173, -0.99025655,\n",
              "         0.65397406,  0.34150568, -0.37780353,  0.9999918 ,  0.59243816,\n",
              "         0.3916213 ,  0.3859387 ,  0.9647078 ,  0.18992192,  0.48821804,\n",
              "         0.65456426,  0.9717854 , -0.47539413,  0.39038348,  0.82447684,\n",
              "        -0.6635388 , -0.48978317, -0.6706805 ,  0.26470187, -0.929551  ,\n",
              "        -0.18427913, -0.9494957 ,  0.9276562 ,  0.83751047,  0.38615376,\n",
              "         0.40054852,  0.666425  ,  1.        , -0.47240457,  0.57581794,\n",
              "        -0.60460705,  0.74974984, -0.998631  , -0.5927402 , -0.4505624 ,\n",
              "        -0.2867461 , -0.6135931 , -0.40692395,  0.3492417 , -0.97160894,\n",
              "         0.56377304,  0.5467473 , -0.9547611 , -0.9907751 , -0.3263005 ,\n",
              "         0.82653344,  0.2840418 , -0.9567048 , -0.7167453 , -0.3775127 ,\n",
              "         0.55136526, -0.32139865, -0.9452606 ,  0.16965544, -0.33877903,\n",
              "         0.6158833 , -0.31540823,  0.47538987,  0.5408393 ,  0.70444924,\n",
              "        -0.5060796 , -0.23008466, -0.24545093, -0.8753779 ,  0.80850625,\n",
              "        -0.8079465 , -0.56309587, -0.17638652,  1.        , -0.3486176 ,\n",
              "         0.6211755 ,  0.7109599 ,  0.7271469 , -0.3907983 ,  0.12860885,\n",
              "         0.7218297 ,  0.5480288 , -0.43001294, -0.7150335 , -0.7774909 ,\n",
              "        -0.5231142 ,  0.75319123,  0.14267814,  0.25276536,  0.7498737 ,\n",
              "         0.65526795,  0.3868581 , -0.17904761,  0.26711574,  0.99923   ,\n",
              "        -0.40711713, -0.2845569 , -0.5900267 , -0.28441432, -0.43129668,\n",
              "        -0.51696324,  1.        ,  0.47302985,  0.39514455, -0.99390876,\n",
              "        -0.68838537, -0.9215521 ,  0.99999905,  0.82141274, -0.7750674 ,\n",
              "         0.6630875 ,  0.6709027 , -0.265776  ,  0.77622366, -0.39680305,\n",
              "        -0.41486815,  0.35476214,  0.13109791,  0.9631133 , -0.5179211 ,\n",
              "        -0.9749952 , -0.62070155,  0.44776586, -0.9052354 ,  0.99972004,\n",
              "        -0.678335  , -0.30678234, -0.40458298, -0.4784129 ,  0.59402764,\n",
              "         0.17239009, -0.970521  , -0.3785392 ,  0.18851966,  0.96912026,\n",
              "         0.24794237, -0.50228226, -0.9282539 ,  0.5932221 ,  0.5485486 ,\n",
              "        -0.6231169 , -0.90189415,  0.9720148 , -0.9304886 ,  0.6743584 ,\n",
              "         1.        ,  0.43809396,  0.10588114,  0.34742078, -0.5812963 ,\n",
              "         0.3709749 , -0.44037297,  0.6311301 , -0.9113618 , -0.34718218,\n",
              "        -0.40538603,  0.4350405 , -0.3316499 , -0.5296355 ,  0.74812216,\n",
              "         0.31396928, -0.37364188, -0.7082827 , -0.22486237,  0.58731776,\n",
              "         0.8066581 , -0.38457057, -0.24174802,  0.3208914 , -0.24336846,\n",
              "        -0.92074674, -0.546499  , -0.33172885, -0.99996984,  0.65362597,\n",
              "        -1.        ,  0.3758492 ,  0.01655445, -0.28952435,  0.7843526 ,\n",
              "         0.39544624,  0.152727  , -0.71811485, -0.5745415 ,  0.49388185,\n",
              "         0.7133596 , -0.3729146 , -0.36982915, -0.6245822 ,  0.18050228,\n",
              "        -0.21686581,  0.40479064, -0.48328954,  0.7009473 , -0.3837507 ,\n",
              "         1.        ,  0.33106503, -0.70915914, -0.94194275,  0.39254895,\n",
              "        -0.39701974,  1.        , -0.88348514, -0.96354634,  0.4680058 ,\n",
              "        -0.74108034, -0.7267348 ,  0.39992383,  0.10946097, -0.827087  ,\n",
              "        -0.8936127 ,  0.8115584 ,  0.85566056, -0.48463362,  0.5248892 ,\n",
              "        -0.3800051 , -0.6364296 ,  0.26079562,  0.6208747 ,  0.9886958 ,\n",
              "         0.5242655 ,  0.8542495 , -0.05911798, -0.30920422,  0.92417634,\n",
              "         0.47808403,  0.7357103 ,  0.29836014,  1.        ,  0.3534711 ,\n",
              "        -0.9128421 , -0.1765089 , -0.9539319 , -0.39748695, -0.9303244 ,\n",
              "         0.541548  ,  0.30834937,  0.87332565, -0.40743622,  0.95609915,\n",
              "        -0.6366511 ,  0.26881477, -0.4909742 , -0.08099411,  0.48740715,\n",
              "        -0.88169605, -0.9857974 , -0.9871069 ,  0.46355712, -0.5245388 ,\n",
              "        -0.14366819,  0.45071936,  0.28485072,  0.52275044,  0.5090194 ,\n",
              "        -1.        ,  0.9207553 ,  0.49101195,  0.6311151 ,  0.96424586,\n",
              "         0.4617214 ,  0.5425843 ,  0.36712727, -0.98654276, -0.94308776,\n",
              "        -0.4459866 , -0.36737317,  0.79860383,  0.7064048 ,  0.7530566 ,\n",
              "         0.66694415, -0.41554287, -0.35391724,  0.02337302, -0.56417686,\n",
              "        -0.9918592 ,  0.5410056 , -0.46197522, -0.9513067 ,  0.94545704,\n",
              "        -0.19531848, -0.2146759 ,  0.01941699, -0.5232433 ,  0.91194516,\n",
              "         0.77699304,  0.6619636 ,  0.16308267,  0.549608  ,  0.86296105,\n",
              "         0.926298  ,  0.988094  , -0.5991034 ,  0.6315378 , -0.3183001 ,\n",
              "         0.55915576,  0.62151843, -0.92698854,  0.21331629,  0.2910279 ,\n",
              "        -0.43740293,  0.4776052 , -0.4345449 , -0.9321111 ,  0.6795507 ,\n",
              "        -0.4056085 ,  0.71518415, -0.28248182, -0.11368284, -0.4969041 ,\n",
              "        -0.19075134, -0.64337796, -0.75010675,  0.5979516 ,  0.36685574,\n",
              "         0.90816265,  0.63559157, -0.16546868, -0.7408549 , -0.44589636,\n",
              "        -0.4053304 , -0.9121249 ,  0.90340614, -0.27501693, -0.03014294,\n",
              "         0.24894264,  0.16726872,  0.74151367,  0.32862622, -0.56972474,\n",
              "        -0.4987899 , -0.8186344 ,  0.7908961 , -0.4317535 , -0.5764366 ,\n",
              "        -0.67810214,  0.6677746 ,  0.3256324 ,  0.99995065, -0.6155469 ,\n",
              "        -0.7512351 , -0.40330327, -0.463691  ,  0.41354653, -0.60302854,\n",
              "        -1.        ,  0.40382168, -0.38070896,  0.48513448, -0.5090454 ,\n",
              "         0.6256237 , -0.43350896, -0.9527442 , -0.2960001 ,  0.45721284,\n",
              "         0.10569668, -0.6290614 , -0.7832143 ,  0.42692393, -0.40426776,\n",
              "         0.8859029 ,  0.8332628 , -0.41615885,  0.38800874,  0.50784284,\n",
              "        -0.46271813, -0.63909245,  0.8229177 ]], dtype=float32)>"
            ]
          },
          "metadata": {},
          "execution_count": 12
        }
      ]
    },
    {
      "cell_type": "code",
      "source": [
        "from sklearn.model_selection import train_test_split\n",
        "\n",
        "X_train, X_test, y_train, y_test = train_test_split(df['claim'],df['verdict'], stratify=df['verdict'])"
      ],
      "metadata": {
        "id": "hipPWZESYEk8"
      },
      "execution_count": 13,
      "outputs": []
    },
    {
      "cell_type": "code",
      "source": [
        "X_train.head()"
      ],
      "metadata": {
        "colab": {
          "base_uri": "https://localhost:8080/"
        },
        "id": "6LwK1Y9ibZ_S",
        "outputId": "7ac9a935-3504-4a3d-fbf5-0d07c76a098a"
      },
      "execution_count": 14,
      "outputs": [
        {
          "output_type": "execute_result",
          "data": {
            "text/plain": [
              "5252           cleaning four year michael dukakis governor\n",
              "7751     unfortunately almost brave young marine killed...\n",
              "6639     actually drilling public land previous adminis...\n",
              "3202     continue pursue policy disrupting proliferate ...\n",
              "10611    bring direction eliminating spending john mcca...\n",
              "Name: claim, dtype: object"
            ]
          },
          "metadata": {},
          "execution_count": 14
        }
      ]
    },
    {
      "cell_type": "code",
      "source": [
        "import tensorflow as tf\n",
        "\n",
        "input = tf.keras.layers.Input(shape=(), dtype=tf.string, name='text')\n",
        "\n",
        "# BERT Preprocess and Encoder \n",
        "processed = bert_preprocess(input)\n",
        "output = bert_encoder(processed)\n",
        "\n",
        "part = tf.keras.layers.Dropout(0.2, name='dropout')(output['pooled_output'])\n",
        "part = tf.keras.layers.Dense(12,activation='relu', name='hidden')(part)\n",
        "part = tf.keras.layers.Dense(1,activation='sigmoid', name='output')(part)\n",
        "\n",
        "model = tf.keras.Model(inputs=[input],outputs=[part])"
      ],
      "metadata": {
        "id": "CzslEIdfYK_t"
      },
      "execution_count": 21,
      "outputs": []
    },
    {
      "cell_type": "code",
      "source": [
        "METRICS = [\n",
        "      tf.keras.metrics.BinaryAccuracy(name='accuracy'),\n",
        "      tf.keras.metrics.Precision(name='precision'),\n",
        "      tf.keras.metrics.Recall(name='recall')\n",
        "]\n",
        "\n",
        "model.compile(optimizer='adam',loss='binary_crossentropy',metrics=METRICS)"
      ],
      "metadata": {
        "id": "aE4bx_PWYFDV"
      },
      "execution_count": 22,
      "outputs": []
    },
    {
      "cell_type": "code",
      "source": [
        "model.summary()"
      ],
      "metadata": {
        "colab": {
          "base_uri": "https://localhost:8080/"
        },
        "id": "pxM-Yjlxb3jo",
        "outputId": "9f75cdd9-3759-4ed4-e08e-9bf46d6ee936"
      },
      "execution_count": 23,
      "outputs": [
        {
          "output_type": "stream",
          "name": "stdout",
          "text": [
            "Model: \"model_1\"\n",
            "__________________________________________________________________________________________________\n",
            " Layer (type)                   Output Shape         Param #     Connected to                     \n",
            "==================================================================================================\n",
            " text (InputLayer)              [(None,)]            0           []                               \n",
            "                                                                                                  \n",
            " keras_layer (KerasLayer)       {'input_type_ids':   0           ['text[0][0]']                   \n",
            "                                (None, 128),                                                      \n",
            "                                 'input_word_ids':                                                \n",
            "                                (None, 128),                                                      \n",
            "                                 'input_mask': (Non                                               \n",
            "                                e, 128)}                                                          \n",
            "                                                                                                  \n",
            " keras_layer_1 (KerasLayer)     {'sequence_output':  109482241   ['keras_layer[1][0]',            \n",
            "                                 (None, 128, 768),                'keras_layer[1][1]',            \n",
            "                                 'pooled_output': (               'keras_layer[1][2]']            \n",
            "                                None, 768),                                                       \n",
            "                                 'default': (None,                                                \n",
            "                                768),                                                             \n",
            "                                 'encoder_outputs':                                               \n",
            "                                 [(None, 128, 768),                                               \n",
            "                                 (None, 128, 768),                                                \n",
            "                                 (None, 128, 768),                                                \n",
            "                                 (None, 128, 768),                                                \n",
            "                                 (None, 128, 768),                                                \n",
            "                                 (None, 128, 768),                                                \n",
            "                                 (None, 128, 768),                                                \n",
            "                                 (None, 128, 768),                                                \n",
            "                                 (None, 128, 768),                                                \n",
            "                                 (None, 128, 768),                                                \n",
            "                                 (None, 128, 768),                                                \n",
            "                                 (None, 128, 768)]}                                               \n",
            "                                                                                                  \n",
            " dropout (Dropout)              (None, 768)          0           ['keras_layer_1[1][13]']         \n",
            "                                                                                                  \n",
            " hidden (Dense)                 (None, 12)           9228        ['dropout[0][0]']                \n",
            "                                                                                                  \n",
            " output (Dense)                 (None, 1)            13          ['hidden[0][0]']                 \n",
            "                                                                                                  \n",
            "==================================================================================================\n",
            "Total params: 109,491,482\n",
            "Trainable params: 9,241\n",
            "Non-trainable params: 109,482,241\n",
            "__________________________________________________________________________________________________\n"
          ]
        }
      ]
    },
    {
      "cell_type": "code",
      "source": [
        "len(X_train)"
      ],
      "metadata": {
        "colab": {
          "base_uri": "https://localhost:8080/"
        },
        "id": "mP-TuYNjb66w",
        "outputId": "5a12d3f1-b89a-44b2-e3da-aff60017f9b4"
      },
      "execution_count": 24,
      "outputs": [
        {
          "output_type": "execute_result",
          "data": {
            "text/plain": [
              "8476"
            ]
          },
          "metadata": {},
          "execution_count": 24
        }
      ]
    },
    {
      "cell_type": "code",
      "source": [
        "import numpy as np\n",
        "X_train = np.array([np.array(val) for val in X_train])\n",
        "X_test = np.array([np.array(val) for val in X_test])"
      ],
      "metadata": {
        "id": "AXm6NxercaY5"
      },
      "execution_count": 25,
      "outputs": []
    },
    {
      "cell_type": "code",
      "source": [
        "history = model.fit(X_train, y_train, epochs=10)"
      ],
      "metadata": {
        "colab": {
          "base_uri": "https://localhost:8080/"
        },
        "id": "iiGXKoowYYFQ",
        "outputId": "1d4d3018-e291-400e-d5eb-431e604781b3"
      },
      "execution_count": 26,
      "outputs": [
        {
          "output_type": "stream",
          "name": "stdout",
          "text": [
            "Epoch 1/10\n",
            "265/265 [==============================] - 93s 338ms/step - loss: 0.6819 - accuracy: 0.5664 - precision: 0.5644 - recall: 0.5821\n",
            "Epoch 2/10\n",
            "265/265 [==============================] - 90s 339ms/step - loss: 0.6376 - accuracy: 0.6372 - precision: 0.6386 - recall: 0.6324\n",
            "Epoch 3/10\n",
            "265/265 [==============================] - 90s 340ms/step - loss: 0.6047 - accuracy: 0.6708 - precision: 0.6716 - recall: 0.6685\n",
            "Epoch 4/10\n",
            "265/265 [==============================] - 89s 338ms/step - loss: 0.5856 - accuracy: 0.6846 - precision: 0.6850 - recall: 0.6836\n",
            "Epoch 5/10\n",
            "265/265 [==============================] - 90s 340ms/step - loss: 0.5756 - accuracy: 0.7002 - precision: 0.7040 - recall: 0.6909\n",
            "Epoch 6/10\n",
            "265/265 [==============================] - 90s 340ms/step - loss: 0.5697 - accuracy: 0.7025 - precision: 0.7025 - recall: 0.7022\n",
            "Epoch 7/10\n",
            "265/265 [==============================] - 90s 338ms/step - loss: 0.5704 - accuracy: 0.7049 - precision: 0.7078 - recall: 0.6980\n",
            "Epoch 8/10\n",
            "265/265 [==============================] - 90s 340ms/step - loss: 0.5702 - accuracy: 0.7046 - precision: 0.7062 - recall: 0.7006\n",
            "Epoch 9/10\n",
            "265/265 [==============================] - 90s 339ms/step - loss: 0.5590 - accuracy: 0.7131 - precision: 0.7131 - recall: 0.7131\n",
            "Epoch 10/10\n",
            "265/265 [==============================] - 90s 338ms/step - loss: 0.5545 - accuracy: 0.7181 - precision: 0.7181 - recall: 0.7183\n"
          ]
        }
      ]
    },
    {
      "cell_type": "code",
      "source": [
        "model.evaluate(X_test, y_test)"
      ],
      "metadata": {
        "colab": {
          "base_uri": "https://localhost:8080/"
        },
        "id": "OF2Th5TIf5F7",
        "outputId": "c9a249d3-1926-483b-e808-c51306dbc6a0"
      },
      "execution_count": 27,
      "outputs": [
        {
          "output_type": "stream",
          "name": "stdout",
          "text": [
            "89/89 [==============================] - 31s 334ms/step - loss: 0.5303 - accuracy: 0.7456 - precision: 0.7224 - recall: 0.7976\n"
          ]
        },
        {
          "output_type": "execute_result",
          "data": {
            "text/plain": [
              "[0.5302746295928955, 0.745576798915863, 0.7224358916282654, 0.7975937724113464]"
            ]
          },
          "metadata": {},
          "execution_count": 27
        }
      ]
    },
    {
      "cell_type": "code",
      "source": [
        "y_predicted = model.predict(X_test)\n",
        "y_predicted = y_predicted.flatten()"
      ],
      "metadata": {
        "colab": {
          "base_uri": "https://localhost:8080/"
        },
        "id": "_SOG6pdsgFgz",
        "outputId": "8aa20b68-2969-4b89-df5a-df609e46edff"
      },
      "execution_count": 28,
      "outputs": [
        {
          "output_type": "stream",
          "name": "stdout",
          "text": [
            "89/89 [==============================] - 30s 334ms/step\n"
          ]
        }
      ]
    },
    {
      "cell_type": "code",
      "source": [
        "import numpy as np\n",
        "\n",
        "y_predicted = np.where(y_predicted > 0.5, 1, 0)\n",
        "y_predicted"
      ],
      "metadata": {
        "colab": {
          "base_uri": "https://localhost:8080/"
        },
        "id": "0Y0aEO9IgRnG",
        "outputId": "177cca28-9529-4716-a2aa-816ae5a4a15c"
      },
      "execution_count": 29,
      "outputs": [
        {
          "output_type": "execute_result",
          "data": {
            "text/plain": [
              "array([1, 0, 1, ..., 1, 0, 1])"
            ]
          },
          "metadata": {},
          "execution_count": 29
        }
      ]
    },
    {
      "cell_type": "code",
      "source": [
        "from sklearn.metrics import confusion_matrix, classification_report\n",
        "\n",
        "cm = confusion_matrix(y_test, y_predicted)\n",
        "cm "
      ],
      "metadata": {
        "colab": {
          "base_uri": "https://localhost:8080/"
        },
        "id": "VZxuz-mmgWtv",
        "outputId": "8e5d9d4d-1308-4b6c-cb2a-70bd8a733ea7"
      },
      "execution_count": 30,
      "outputs": [
        {
          "output_type": "execute_result",
          "data": {
            "text/plain": [
              "array([[ 980,  433],\n",
              "       [ 286, 1127]])"
            ]
          },
          "metadata": {},
          "execution_count": 30
        }
      ]
    },
    {
      "cell_type": "code",
      "source": [
        "from matplotlib import pyplot as plt\n",
        "import seaborn as sn\n",
        "sn.heatmap(cm, annot=True, fmt='d')\n",
        "plt.xlabel('Predicted')\n",
        "plt.ylabel('Truth')"
      ],
      "metadata": {
        "colab": {
          "base_uri": "https://localhost:8080/",
          "height": 466
        },
        "id": "bZBxivE5gaut",
        "outputId": "38ea00bf-5c7e-4690-a35c-a9339400f9f9"
      },
      "execution_count": 31,
      "outputs": [
        {
          "output_type": "execute_result",
          "data": {
            "text/plain": [
              "Text(50.722222222222214, 0.5, 'Truth')"
            ]
          },
          "metadata": {},
          "execution_count": 31
        },
        {
          "output_type": "display_data",
          "data": {
            "text/plain": [
              "<Figure size 640x480 with 2 Axes>"
            ],
            "image/png": "[encoded data removed]"
          },
          "metadata": {}
        }
      ]
    },
    {
      "cell_type": "code",
      "source": [
        "print(classification_report(y_test, y_predicted))\n"
      ],
      "metadata": {
        "colab": {
          "base_uri": "https://localhost:8080/"
        },
        "id": "F9AjHyH2gdgs",
        "outputId": "155b2a68-acc7-4d89-eeac-007ee2c275c3"
      },
      "execution_count": 32,
      "outputs": [
        {
          "output_type": "stream",
          "name": "stdout",
          "text": [
            "              precision    recall  f1-score   support\n",
            "\n",
            "           0       0.77      0.69      0.73      1413\n",
            "           1       0.72      0.80      0.76      1413\n",
            "\n",
            "    accuracy                           0.75      2826\n",
            "   macro avg       0.75      0.75      0.74      2826\n",
            "weighted avg       0.75      0.75      0.74      2826\n",
            "\n"
          ]
        }
      ]
    },
    {
      "cell_type": "code",
      "source": [
        "from matplotlib import pyplot as plt\n",
        "\n",
        "plt.plot(history.history['accuracy'])\n",
        "plt.plot(history.history['precision'])\n",
        "plt.plot(history.history['recall'])\n",
        "plt.title('model accuracy')\n",
        "plt.ylabel('accuracy')\n",
        "plt.xlabel('epoch')\n",
        "plt.legend(['train', 'val'], loc='upper left')\n",
        "plt.show()"
      ],
      "metadata": {
        "colab": {
          "base_uri": "https://localhost:8080/",
          "height": 472
        },
        "id": "CvDVpOoMg3FH",
        "outputId": "e51edef2-9391-4c83-82e7-2427860e2f53"
      },
      "execution_count": 33,
      "outputs": [
        {
          "output_type": "display_data",
          "data": {
            "text/plain": [
              "<Figure size 640x480 with 1 Axes>"
            ],
            "image/png": "[encoded data removed]"
          },
          "metadata": {}
        }
      ]
    }
  ]
}